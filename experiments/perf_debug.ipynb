{
 "cells": [
  {
   "cell_type": "code",
   "execution_count": 4,
   "metadata": {},
   "outputs": [],
   "source": [
    "import pywren\n",
    "import boto3\n",
    "import pickle\n",
    "import dill\n",
    "from numpywren.matrix_utils import list_all_keys\n",
    "import concurrent.futures as fs\n",
    "import seaborn as sns\n",
    "import numpywren.lambdapack as lp\n",
    "from collections import defaultdict\n"
   ]
  },
  {
   "cell_type": "code",
   "execution_count": 5,
   "metadata": {},
   "outputs": [],
   "source": [
    "PROGRAM_ID = \"1537034412\"\n",
    "BUCKET = \"numpywrennsdi2\""
   ]
  },
  {
   "cell_type": "code",
   "execution_count": 6,
   "metadata": {},
   "outputs": [],
   "source": [
    "s3_client = boto3.client(\"s3\")"
   ]
  },
  {
   "cell_type": "code",
   "execution_count": 7,
   "metadata": {},
   "outputs": [],
   "source": [
    "runtime_data = pickle.loads(s3_client.get_object(Bucket=BUCKET, Key=\"{0}/{1}/runtime.pickle\".format(\"lambdapack\", PROGRAM_ID))[\"Body\"].read())"
   ]
  },
  {
   "cell_type": "code",
   "execution_count": 8,
   "metadata": {},
   "outputs": [
    {
     "name": "stdout",
     "output_type": "stream",
     "text": [
      "<numpywren.compiler.CompiledLambdaPackProgram object at 0x7f473a738390>\n"
     ]
    }
   ],
   "source": [
    "print(runtime_data[\"program\"].program)"
   ]
  },
  {
   "cell_type": "code",
   "execution_count": 9,
   "metadata": {},
   "outputs": [],
   "source": [
    "pywren_futures = runtime_data[\"all_futures\"]"
   ]
  },
  {
   "cell_type": "code",
   "execution_count": 10,
   "metadata": {},
   "outputs": [
    {
     "data": {
      "text/plain": [
       "([<pywren.future.ResponseFuture at 0x7f473a0bb4e0>,\n",
       "  <pywren.future.ResponseFuture at 0x7f473a0bb6a0>,\n",
       "  <pywren.future.ResponseFuture at 0x7f473a0bb710>,\n",
       "  <pywren.future.ResponseFuture at 0x7f473a0bb780>],\n",
       " [])"
      ]
     },
     "execution_count": 10,
     "metadata": {},
     "output_type": "execute_result"
    }
   ],
   "source": [
    "pywren.wait(pywren_futures)"
   ]
  },
  {
   "cell_type": "code",
   "execution_count": 11,
   "metadata": {},
   "outputs": [],
   "source": [
    "pywren_futures = []\n",
    "for f in runtime_data[\"all_futures\"]:\n",
    "    if (isinstance(f, list)):\n",
    "        pywren_futures += f\n",
    "    else:\n",
    "        pywren_futures.append(f)\n",
    "    "
   ]
  },
  {
   "cell_type": "code",
   "execution_count": 23,
   "metadata": {},
   "outputs": [],
   "source": [
    "profiled_blocks = {}\n",
    "all_profiled_blocks_by_future = []\n",
    "for f in pywren_futures:\n",
    "    future_blocks = []\n",
    "    for k,v in f.result()['logs'].items():\n",
    "        inst_block = dill.loads(v)\n",
    "        profiled_blocks[k] = inst_block\n",
    "        future_blocks.append(inst_block)\n",
    "    if (len(future_blocks) > 0):\n",
    "        all_profiled_blocks_by_future.append(future_blocks)"
   ]
  },
  {
   "cell_type": "code",
   "execution_count": 24,
   "metadata": {},
   "outputs": [
    {
     "data": {
      "text/plain": [
       "{(0, \"{'j': 0}\"): <numpywren.lambdapack.InstructionBlock at 0x7f473a06fe10>,\n",
       " (0, \"{'j': 1}\"): <numpywren.lambdapack.InstructionBlock at 0x7f473a0844e0>,\n",
       " (1,\n",
       "  \"{'j': 0, 'level': 0}\"): <numpywren.lambdapack.InstructionBlock at 0x7f473a08fa20>,\n",
       " (2,\n",
       "  \"{'k': 1, 'j': 0}\"): <numpywren.lambdapack.InstructionBlock at 0x7f473a06f6d8>,\n",
       " (2,\n",
       "  \"{'k': 1, 'j': 1}\"): <numpywren.lambdapack.InstructionBlock at 0x7f473a06fa90>,\n",
       " (3,\n",
       "  \"{'j': 0, 'level': 0, 'k': 1}\"): <numpywren.lambdapack.InstructionBlock at 0x7f473a082588>,\n",
       " (4, \"{'k': 1}\"): <numpywren.lambdapack.InstructionBlock at 0x7f473a08f9e8>,\n",
       " (5,\n",
       "  \"{'j': 1, 'i': 1}\"): <numpywren.lambdapack.InstructionBlock at 0x7f473a06f5f8>}"
      ]
     },
     "execution_count": 24,
     "metadata": {},
     "output_type": "execute_result"
    }
   ],
   "source": [
    "profiled_blocks"
   ]
  },
  {
   "cell_type": "code",
   "execution_count": 25,
   "metadata": {},
   "outputs": [],
   "source": [
    "s3_client = boto3.client(\"s3\")\n"
   ]
  },
  {
   "cell_type": "code",
   "execution_count": 51,
   "metadata": {},
   "outputs": [],
   "source": [
    "def download_profiled_block(key, bucket):\n",
    "    client = boto3.client('s3')\n",
    "    return dill.loads(client.get_object(Key=key, Bucket=bucket)[\"Body\"].read())\n",
    "\n",
    "\n",
    "def perf_profile(blocks, num_bins=100):\n",
    "    READ_INSTRUCTIONS = [lp.OC.S3_LOAD]\n",
    "    WRITE_INSTRUCTIONS = [lp.OC.S3_WRITE, lp.OC.RET]\n",
    "    COMPUTE_INSTRUCTIONS = [lp.OC.GENERIC]\n",
    "    # first flatten into a single instruction list\n",
    "    instructions_full = [inst for block in blocks for inst in block.instrs]\n",
    "    instructions = [inst for block in blocks for inst in block.instrs if inst.end_time != None and inst.start_time != None]\n",
    "    start_times = [inst.start_time for inst in instructions]\n",
    "    end_times = [inst.end_time for inst in instructions]\n",
    "\n",
    "    abs_start = min(start_times)\n",
    "    last_end = max(end_times)\n",
    "    tot_time = (last_end - abs_start)\n",
    "    bins = np.linspace(0, tot_time, tot_time)\n",
    "    total_flops_per_sec = np.zeros(len(bins))\n",
    "    read_bytes_per_sec = np.zeros(len(bins))\n",
    "    write_bytes_per_sec = np.zeros(len(bins))\n",
    "    read_txns = np.zeros(len(bins))\n",
    "    write_txns = np.zeros(len(bins))\n",
    "    runtimes = []\n",
    "\n",
    "    for i,inst in enumerate(instructions):\n",
    "        if (inst.end_time == None or inst.start_time == None):\n",
    "          # replay instructions don't always have profiling information...\n",
    "          continue\n",
    "        duration = inst.end_time - inst.start_time\n",
    "        if (inst.i_code in READ_INSTRUCTIONS):\n",
    "            start_time = inst.start_time - abs_start\n",
    "            end_time = inst.end_time - abs_start\n",
    "            start_bin, end_bin = np.searchsorted(bins, [start_time, end_time])\n",
    "            size = inst.size\n",
    "            bytes_per_sec = size/duration\n",
    "            gb_per_sec = bytes_per_sec/1e9\n",
    "            read_bytes_per_sec[start_bin:end_bin]  += gb_per_sec\n",
    "            read_txns[start_bin:end_bin] += 1/duration\n",
    "\n",
    "        if (inst.i_code in WRITE_INSTRUCTIONS):\n",
    "            start_time = inst.start_time - abs_start\n",
    "            end_time = inst.end_time - abs_start\n",
    "            start_bin, end_bin = np.searchsorted(bins, [start_time, end_time])\n",
    "            size = inst.size\n",
    "            bytes_per_sec = size/duration\n",
    "            gb_per_sec = bytes_per_sec/1e9\n",
    "            write_bytes_per_sec[start_bin:end_bin]  += gb_per_sec\n",
    "            write_txns[start_bin:end_bin] += 1/duration\n",
    "\n",
    "        if (False and inst.i_code in COMPUTE_INSTRUCTIONS):\n",
    "            start_time = inst.start_time - abs_start\n",
    "            end_time = inst.end_time - abs_start\n",
    "            start_bin, end_bin = np.searchsorted(bins, [start_time, end_time])\n",
    "            flops = inst.flops\n",
    "            flops_per_sec = flops/duration\n",
    "            gf_per_sec = flops_per_sec/1e9\n",
    "            total_flops_per_sec[start_bin:end_bin]  += gf_per_sec\n",
    "        runtimes.append(duration)\n",
    "    optimes = defaultdict(int)\n",
    "    opcounts = defaultdict(int)\n",
    "    computetimes = defaultdict(int)\n",
    "    computecounts = defaultdict(int)\n",
    "    offset = instructions[0].start_time\n",
    "    for inst, t in zip(instructions, runtimes):\n",
    "      opcounts[inst.i_code] += 1\n",
    "      optimes[inst.i_code] += t\n",
    "      if (inst.i_code in COMPUTE_INSTRUCTIONS):\n",
    "        computetimes[inst.compute] += t\n",
    "        computecounts[inst.compute] += 1\n",
    "      IO_INSTRUCTIONS = [lp.OC.S3_LOAD, lp.OC.S3_WRITE, lp.OC.RET]\n",
    "    print(\"Average instruction runtimes:\")\n",
    "    for k in optimes.keys():\n",
    "      print(\"{0}: {1}s\".format(k, optimes[k]/opcounts[k]))\n",
    "    print(\"Average Compute runtimes:\")\n",
    "    for k in computetimes.keys():\n",
    "      print(\"{0}: {1}s\".format(k, computetimes[k]/computecounts[k]))\n",
    "    return read_txns, write_txns, read_bytes_per_sec, write_bytes_per_sec, total_flops_per_sec, bins , instructions, runtimes\n",
    "\n"
   ]
  },
  {
   "cell_type": "code",
   "execution_count": 58,
   "metadata": {},
   "outputs": [],
   "source": [
    " \n",
    "executor = fs.ThreadPoolExecutor(64)\n",
    "futures = []\n",
    "for key in lst:\n",
    "    futures.append(executor.submit(download_profiled_block, key, BUCKET))\n",
    "res = fs.wait(futures)\n"
   ]
  },
  {
   "cell_type": "code",
   "execution_count": 65,
   "metadata": {},
   "outputs": [
    {
     "ename": "Exception",
     "evalue": "process ran out of time",
     "output_type": "error",
     "traceback": [
      "\u001b[0;31m---------------------------------------------------------------------------\u001b[0m",
      "\u001b[0;31mException\u001b[0m                                 Traceback (most recent call last)",
      "\u001b[0;32m<ipython-input-65-dbfbb0a51b67>\u001b[0m in \u001b[0;36m<module>\u001b[0;34m()\u001b[0m\n\u001b[0;32m----> 1\u001b[0;31m \u001b[0mpywren_futures\u001b[0m\u001b[0;34m[\u001b[0m\u001b[0;36m6\u001b[0m\u001b[0;34m]\u001b[0m\u001b[0;34m.\u001b[0m\u001b[0mresult\u001b[0m\u001b[0;34m(\u001b[0m\u001b[0;34m)\u001b[0m\u001b[0;34m\u001b[0m\u001b[0m\n\u001b[0m",
      "\u001b[0;32m~/pywren/pywren/future.py\u001b[0m in \u001b[0;36mresult\u001b[0;34m(self, timeout, check_only, throw_except, storage_handler)\u001b[0m\n\u001b[1;32m    186\u001b[0m             \u001b[0;32melif\u001b[0m \u001b[0mexception_args\u001b[0m\u001b[0;34m[\u001b[0m\u001b[0;36m0\u001b[0m\u001b[0;34m]\u001b[0m \u001b[0;34m==\u001b[0m \u001b[0;34m\"OUTATIME\"\u001b[0m\u001b[0;34m:\u001b[0m\u001b[0;34m\u001b[0m\u001b[0m\n\u001b[1;32m    187\u001b[0m                 \u001b[0;32mif\u001b[0m \u001b[0mthrow_except\u001b[0m\u001b[0;34m:\u001b[0m\u001b[0;34m\u001b[0m\u001b[0m\n\u001b[0;32m--> 188\u001b[0;31m                     \u001b[0;32mraise\u001b[0m \u001b[0mException\u001b[0m\u001b[0;34m(\u001b[0m\u001b[0;34m\"process ran out of time\"\u001b[0m\u001b[0;34m)\u001b[0m\u001b[0;34m\u001b[0m\u001b[0m\n\u001b[0m\u001b[1;32m    189\u001b[0m                 \u001b[0;32mreturn\u001b[0m \u001b[0;32mNone\u001b[0m\u001b[0;34m\u001b[0m\u001b[0m\n\u001b[1;32m    190\u001b[0m             \u001b[0;32melse\u001b[0m\u001b[0;34m:\u001b[0m\u001b[0;34m\u001b[0m\u001b[0m\n",
      "\u001b[0;31mException\u001b[0m: process ran out of time"
     ]
    }
   ],
   "source": [
    "pywren_futures[6].result()"
   ]
  },
  {
   "cell_type": "code",
   "execution_count": null,
   "metadata": {},
   "outputs": [],
   "source": [
    "import numpy as np"
   ]
  },
  {
   "cell_type": "code",
   "execution_count": 26,
   "metadata": {},
   "outputs": [
    {
     "ename": "AttributeError",
     "evalue": "'InstructionBlock' object has no attribute 'start_time'",
     "output_type": "error",
     "traceback": [
      "\u001b[0;31m---------------------------------------------------------------------------\u001b[0m",
      "\u001b[0;31mAttributeError\u001b[0m                            Traceback (most recent call last)",
      "\u001b[0;32m<ipython-input-26-aa464f435df9>\u001b[0m in \u001b[0;36m<module>\u001b[0;34m()\u001b[0m\n\u001b[1;32m     12\u001b[0m \u001b[0mblocks_in_run\u001b[0m \u001b[0;34m=\u001b[0m \u001b[0mall_profiled_blocks_by_future\u001b[0m\u001b[0;34m[\u001b[0m\u001b[0mj\u001b[0m\u001b[0;34m]\u001b[0m\u001b[0;34m\u001b[0m\u001b[0m\n\u001b[1;32m     13\u001b[0m \u001b[0mblocks_in_run\u001b[0m \u001b[0;34m=\u001b[0m \u001b[0msorted\u001b[0m\u001b[0;34m(\u001b[0m\u001b[0mblocks_in_run\u001b[0m\u001b[0;34m,\u001b[0m \u001b[0mkey\u001b[0m\u001b[0;34m=\u001b[0m\u001b[0;32mlambda\u001b[0m \u001b[0mx\u001b[0m\u001b[0;34m:\u001b[0m \u001b[0mx\u001b[0m\u001b[0;34m.\u001b[0m\u001b[0minstrs\u001b[0m\u001b[0;34m[\u001b[0m\u001b[0;36m0\u001b[0m\u001b[0;34m]\u001b[0m\u001b[0;34m.\u001b[0m\u001b[0mstart_time\u001b[0m\u001b[0;34m)\u001b[0m\u001b[0;34m\u001b[0m\u001b[0m\n\u001b[0;32m---> 14\u001b[0;31m \u001b[0mbins\u001b[0m \u001b[0;34m=\u001b[0m \u001b[0mlist\u001b[0m\u001b[0;34m(\u001b[0m\u001b[0mrange\u001b[0m\u001b[0;34m(\u001b[0m\u001b[0mint\u001b[0m\u001b[0;34m(\u001b[0m\u001b[0mblocks_in_run\u001b[0m\u001b[0;34m[\u001b[0m\u001b[0;36m0\u001b[0m\u001b[0;34m]\u001b[0m\u001b[0;34m.\u001b[0m\u001b[0mstart_time\u001b[0m\u001b[0;34m)\u001b[0m\u001b[0;34m,\u001b[0m \u001b[0mint\u001b[0m\u001b[0;34m(\u001b[0m\u001b[0mblocks_in_run\u001b[0m\u001b[0;34m[\u001b[0m\u001b[0;34m-\u001b[0m\u001b[0;36m1\u001b[0m\u001b[0;34m]\u001b[0m\u001b[0;34m.\u001b[0m\u001b[0mend_time\u001b[0m\u001b[0;34m)\u001b[0m\u001b[0;34m)\u001b[0m\u001b[0;34m)\u001b[0m\u001b[0;34m\u001b[0m\u001b[0m\n\u001b[0m\u001b[1;32m     15\u001b[0m \u001b[0mreading_time\u001b[0m \u001b[0;34m=\u001b[0m \u001b[0mnp\u001b[0m\u001b[0;34m.\u001b[0m\u001b[0mzeros\u001b[0m\u001b[0;34m(\u001b[0m\u001b[0mlen\u001b[0m\u001b[0;34m(\u001b[0m\u001b[0mbins\u001b[0m\u001b[0;34m)\u001b[0m\u001b[0;34m)\u001b[0m\u001b[0;34m\u001b[0m\u001b[0m\n\u001b[1;32m     16\u001b[0m \u001b[0mwriting_time\u001b[0m \u001b[0;34m=\u001b[0m \u001b[0mnp\u001b[0m\u001b[0;34m.\u001b[0m\u001b[0mzeros\u001b[0m\u001b[0;34m(\u001b[0m\u001b[0mlen\u001b[0m\u001b[0;34m(\u001b[0m\u001b[0mbins\u001b[0m\u001b[0;34m)\u001b[0m\u001b[0;34m)\u001b[0m\u001b[0;34m\u001b[0m\u001b[0m\n",
      "\u001b[0;31mAttributeError\u001b[0m: 'InstructionBlock' object has no attribute 'start_time'"
     ]
    }
   ],
   "source": [
    "\n",
    "start_read = []\n",
    "end_read = []\n",
    "\n",
    "start_compute = []\n",
    "end_compute = []\n",
    "\n",
    "start_write = []\n",
    "end_write = []\n",
    "\n",
    "j = 0\n",
    "blocks_in_run = all_profiled_blocks_by_future[j]\n",
    "blocks_in_run = sorted(blocks_in_run, key=lambda x: x.instrs[0].start_time)\n",
    "bins = list(range(int(blocks_in_run[0].start_time), int(blocks_in_run[-1].end_time)))\n",
    "reading_time = np.zeros(len(bins))\n",
    "writing_time = np.zeros(len(bins))\n",
    "computing_time = np.zeros(len(bins))\n",
    "\n",
    "starts = []\n",
    "ends = []\n",
    "rts = []\n",
    "rts_without_postop = []\n",
    "tot_reads = []\n",
    "tot_writes = []\n",
    "tot_computes = []\n",
    "tot_read_times = []\n",
    "tot_compute_times = []\n",
    "tot_write_times = []\n",
    "read_instrs = []\n",
    "compute_instrs = []\n",
    "write_instrs = []\n",
    "\n",
    "print(\"===\"*3 + \"WORKER {0}\".format(j) + \"===\"*3)\n",
    "print(blocks_in_run)\n",
    "for i,b in enumerate(blocks_in_run):\n",
    "\n",
    "    free_time = 0\n",
    "    starts.append((b.start_time, i))\n",
    "    ends.append((b.post_op_end, i))\n",
    "    rts.append((b.post_op_end - b.start_time))\n",
    "    print(\"post_op time\", b.post_op_end - b.post_op_start)\n",
    "    rts_without_postop.append((b.instrs[-1].end_time - b.start_time))\n",
    "    curr = starts[-1][0]\n",
    "    reads = 0\n",
    "    writes = 0\n",
    "    computes = 0\n",
    "    read_time = 0\n",
    "    write_time = 0\n",
    "    compute_time = 0\n",
    "    read_times_start = []\n",
    "    write_times_start = []\n",
    "    compute_times_start = []\n",
    "\n",
    "    read_times_end = []\n",
    "    write_times_end = []\n",
    "    compute_times_end = []\n",
    "    free_time = [y.end_time - x.start_time for x,y in zip(b.instrs[:-1], b.instrs[1:])]\n",
    "    for inst in b.instrs:\n",
    "        curr = inst.end_time\n",
    "        duration = inst.end_time - inst.start_time\n",
    "        start_bin, end_bin = np.searchsorted(bins, [inst.start_time, inst.end_time]) \n",
    "        if isinstance(inst, lp.RemoteRead):\n",
    "            read_instrs.append(inst)\n",
    "            reads += 1\n",
    "            read_time += inst.end_time - inst.start_time\n",
    "            reading_time[start_bin:end_bin] += 1\n",
    "        elif isinstance(inst, lp.RemoteWrite):\n",
    "            write_instrs.append(inst)\n",
    "            writes += 1\n",
    "            write_time += inst.end_time - inst.start_time\n",
    "            write_times_start.append(inst.start_time)\n",
    "            write_times_end.append(inst.end_time)\n",
    "            writing_time[start_bin:end_bin] += 1\n",
    "        elif isinstance(inst, lp.RemoteCall):\n",
    "            compute_instrs.append(inst)\n",
    "            computes += 1\n",
    "            compute_time += inst.end_time - inst.start_time\n",
    "            compute_times_start.append(inst.start_time)\n",
    "            compute_times_end.append(inst.end_time)\n",
    "            computing_time[start_bin:end_bin] += 1\n",
    "    tot_reads.append(reads)\n",
    "    tot_writes.append(writes)\n",
    "    tot_computes.append(computes)\n",
    "    tot_read_times.append(read_time)\n",
    "    tot_write_times.append(write_time)\n",
    "    tot_compute_times.append(compute_time)\n",
    "    #print(\"free time\", free_time)\n",
    "    #print(\"free time frac\", free_time/(ends[-1][0] - starts[-1][0]))\n",
    "\n",
    "\n",
    "print(\"Average num reads\", np.mean(tot_reads))\n",
    "print(\"Average num writes\", np.mean(tot_writes))\n",
    "print(\"Average num computes\", np.mean(tot_computes))\n",
    "print(\"Average block completion time\", np.mean(rts))\n",
    "print(\"Average block completion time without postop\", np.mean(rts_without_postop))\n",
    "\n",
    "print(\"Average read times\", np.mean(tot_read_times))\n",
    "print(\"Average compute times \", np.mean(tot_compute_times))\n",
    "print(\"Average write times\", np.mean(tot_write_times))\n",
    "print(\"Variance read times\", np.std(tot_read_times))\n",
    "print(\"Variance compute times \", np.std(tot_compute_times))\n",
    "print(\"Variance write times\", np.std(tot_write_times))\n",
    "print(\"Average total real work\", np.mean(tot_read_times) + np.mean(tot_compute_times) + np.mean(tot_write_times))\n",
    "print(\"Average total read + compute\", np.mean(tot_read_times) + np.mean(tot_compute_times))\n",
    "\n",
    "\n"
   ]
  },
  {
   "cell_type": "code",
   "execution_count": 180,
   "metadata": {},
   "outputs": [],
   "source": [
    "read_instrs = sorted(read_instrs, key=lambda x: x.start_time)\n"
   ]
  },
  {
   "cell_type": "code",
   "execution_count": 181,
   "metadata": {},
   "outputs": [],
   "source": [
    "read_free_time =  [y.end_time - x.start_time for x,y in zip(read_instrs[:-1], read_instrs[1:])]\n"
   ]
  },
  {
   "cell_type": "code",
   "execution_count": 182,
   "metadata": {},
   "outputs": [],
   "source": [
    "read_free_time = np.array(read_free_time)"
   ]
  },
  {
   "cell_type": "code",
   "execution_count": 183,
   "metadata": {},
   "outputs": [
    {
     "data": {
      "text/plain": [
       "2.2027801704406738"
      ]
     },
     "execution_count": 183,
     "metadata": {},
     "output_type": "execute_result"
    }
   ],
   "source": [
    "np.mean(read_free_time[read_free_time < 8])\n"
   ]
  },
  {
   "cell_type": "code",
   "execution_count": 184,
   "metadata": {},
   "outputs": [],
   "source": [
    "bins = np.arange(read_instrs[0].start_time, read_instrs[-1].end_time)\n",
    "read_times = np.zeros(len(bins))\n",
    "compute_times = np.zeros(len(bins))\n",
    "write_times = np.zeros(len(bins))"
   ]
  },
  {
   "cell_type": "code",
   "execution_count": 185,
   "metadata": {},
   "outputs": [],
   "source": [
    "for r in read_instrs:\n",
    "    start,end = np.searchsorted(bins, [r.start_time, r.end_time])\n",
    "    read_times[start:end] += 1\n",
    "    \n",
    "for r in compute_instrs:\n",
    "    start,end = np.searchsorted(bins, [r.start_time, r.end_time])\n",
    "    compute_times[start:end] += 1\n",
    "    \n",
    "for r in write_instrs:\n",
    "    start,end = np.searchsorted(bins, [r.start_time, r.end_time])\n",
    "    write_times[start:end] += 1\n",
    "    "
   ]
  },
  {
   "cell_type": "code",
   "execution_count": 186,
   "metadata": {},
   "outputs": [
    {
     "name": "stdout",
     "output_type": "stream",
     "text": [
      "Populating the interactive namespace from numpy and matplotlib\n"
     ]
    }
   ],
   "source": [
    "%pylab inline"
   ]
  },
  {
   "cell_type": "code",
   "execution_count": 33,
   "metadata": {},
   "outputs": [
    {
     "data": {
      "text/plain": [
       "<matplotlib.legend.Legend at 0x7fcc283d8b70>"
      ]
     },
     "execution_count": 33,
     "metadata": {},
     "output_type": "execute_result"
    },
    {
     "data": {
      "image/png": "[encoded data removed]",
      "text/plain": [
       "<matplotlib.figure.Figure at 0x7fcc28459ba8>"
      ]
     },
     "metadata": {},
     "output_type": "display_data"
    }
   ],
   "source": [
    "plt.plot(bins, read_times, label=\"num simultaneous reads\")\n",
    "plt.plot(bins, compute_times, label=\"num compute\")\n",
    "plt.plot(bins, write_times, label=\"num simulatenous writes\")\n",
    "#plt.plot(bins, compute_times, label=\"compute time\")\n",
    "plt.legend()"
   ]
  },
  {
   "cell_type": "code",
   "execution_count": 56,
   "metadata": {},
   "outputs": [],
   "source": [
    "compute_instrs = sorted(compute_instrs, key=lambda x: x.start_time)"
   ]
  },
  {
   "cell_type": "code",
   "execution_count": 57,
   "metadata": {},
   "outputs": [],
   "source": [
    "compute_free_time =  [y.end_time - x.start_time for x,y in zip(compute_instrs[:-1], compute_instrs[1:])]"
   ]
  },
  {
   "cell_type": "code",
   "execution_count": 58,
   "metadata": {},
   "outputs": [],
   "source": [
    "compute_free_time = np.array(compute_free_time)"
   ]
  },
  {
   "cell_type": "code",
   "execution_count": 59,
   "metadata": {},
   "outputs": [
    {
     "data": {
      "text/plain": [
       "array([ 1.65747428,  1.64918613, 53.22834992,  4.36977601,  3.28344727,\n",
       "        6.34678698,  3.97619939,  3.92968011,  6.69553423,  3.5558641 ,\n",
       "        3.71732855,  6.02079868,  3.88597417,  4.23275995,  5.23755383,\n",
       "        4.04397798,  4.1585393 ,  4.53072262,  4.95663619,  3.18344593,\n",
       "        8.68415046,  3.4958148 ,  9.15434027,  4.9188242 ,  6.23452044,\n",
       "        5.58194876,  5.60992289,  6.50639343,  5.52644992])"
      ]
     },
     "execution_count": 59,
     "metadata": {},
     "output_type": "execute_result"
    }
   ],
   "source": [
    "compute_free_time"
   ]
  },
  {
   "cell_type": "code",
   "execution_count": null,
   "metadata": {},
   "outputs": [],
   "source": []
  },
  {
   "cell_type": "code",
   "execution_count": 109,
   "metadata": {},
   "outputs": [
    {
     "ename": "TypeError",
     "evalue": "unsupported operand type(s) for -: 'list' and 'int'",
     "output_type": "error",
     "traceback": [
      "\u001b[0;31m---------------------------------------------------------------------------\u001b[0m",
      "\u001b[0;31mTypeError\u001b[0m                                 Traceback (most recent call last)",
      "\u001b[0;32m<ipython-input-109-808f64321a41>\u001b[0m in \u001b[0;36m<module>\u001b[0;34m()\u001b[0m\n\u001b[0;32m----> 1\u001b[0;31m \u001b[0msns\u001b[0m\u001b[0;34m.\u001b[0m\u001b[0mtsplot\u001b[0m\u001b[0;34m(\u001b[0m\u001b[0mreading_time\u001b[0m\u001b[0;34m,\u001b[0m \u001b[0mtime\u001b[0m\u001b[0;34m=\u001b[0m\u001b[0;34m(\u001b[0m\u001b[0mbins\u001b[0m \u001b[0;34m-\u001b[0m \u001b[0mmin\u001b[0m\u001b[0;34m(\u001b[0m\u001b[0mbins\u001b[0m\u001b[0;34m)\u001b[0m\u001b[0;34m)\u001b[0m\u001b[0;34m,\u001b[0m \u001b[0mcolor\u001b[0m\u001b[0;34m=\u001b[0m\u001b[0;34m\"green\"\u001b[0m\u001b[0;34m)\u001b[0m\u001b[0;34m\u001b[0m\u001b[0m\n\u001b[0m\u001b[1;32m      2\u001b[0m \u001b[0;31m#sns.tsplot(computing_time[60:80], time=(bins - min(bins))[60:80], color=\"red\")\u001b[0m\u001b[0;34m\u001b[0m\u001b[0;34m\u001b[0m\u001b[0m\n\u001b[1;32m      3\u001b[0m \u001b[0;31m#sns.tsplot(writing_time[60:80], time=(bins - min(bins))[60:80])\u001b[0m\u001b[0;34m\u001b[0m\u001b[0;34m\u001b[0m\u001b[0m\n",
      "\u001b[0;31mTypeError\u001b[0m: unsupported operand type(s) for -: 'list' and 'int'"
     ]
    }
   ],
   "source": [
    "sns.tsplot(reading_time, time=(bins - min(bins)), color=\"green\")\n",
    "#sns.tsplot(computing_time[60:80], time=(bins - min(bins))[60:80], color=\"red\")\n",
    "#sns.tsplot(writing_time[60:80], time=(bins - min(bins))[60:80])"
   ]
  },
  {
   "cell_type": "code",
   "execution_count": null,
   "metadata": {},
   "outputs": [],
   "source": [
    "sns.tsplot(computing_time[start:end], time=(bins - min(bins))[start:end], color=\"red\")"
   ]
  },
  {
   "cell_type": "code",
   "execution_count": null,
   "metadata": {},
   "outputs": [],
   "source": [
    "sns.tsplot(writing_time[start:end], time=(bins - min(bins))[start:end], color=\"red\")"
   ]
  },
  {
   "cell_type": "code",
   "execution_count": null,
   "metadata": {},
   "outputs": [],
   "source": [
    "#plt.hist(rts)\n",
    "plt.hist(np.array(tot_read_times) + np.array(tot_compute_times) + np.array(tot_write_times))"
   ]
  },
  {
   "cell_type": "code",
   "execution_count": null,
   "metadata": {},
   "outputs": [],
   "source": [
    "plt.scatter(*zip(*start_read), label=\"start_read\")\n",
    "plt.scatter(*zip(*end_read), label=\"end_read\", alpha=0.8)\n",
    "\n",
    "plt.scatter(*zip(*start_compute), label=\"start_compute\")\n",
    "plt.scatter(*zip(*end_compute), label=\"end_compute\", alpha=0.8)\n",
    "plt.legend()\n",
    "#plt.xlim(15,20)\n",
    "plt.ylim(600,700)"
   ]
  },
  {
   "cell_type": "code",
   "execution_count": null,
   "metadata": {},
   "outputs": [],
   "source": [
    "plt.scatter(*zip(*starts))\n",
    "plt.scatter(*zip(*ends))\n",
    "plt.figure()\n",
    "plt.title(\"runtimes\")\n",
    "plt.scatter(*zip(*rts))"
   ]
  },
  {
   "cell_type": "code",
   "execution_count": null,
   "metadata": {},
   "outputs": [],
   "source": [
    "\n",
    "plt.scatter()"
   ]
  },
  {
   "cell_type": "code",
   "execution_count": null,
   "metadata": {},
   "outputs": [],
   "source": [
    "fig.axes\n"
   ]
  },
  {
   "cell_type": "code",
   "execution_count": null,
   "metadata": {},
   "outputs": [],
   "source": [
    "np.searchsorted([1,8,9,10], 3)"
   ]
  },
  {
   "cell_type": "code",
   "execution_count": null,
   "metadata": {},
   "outputs": [],
   "source": []
  }
 ],
 "metadata": {
  "kernelspec": {
   "display_name": "Python 3",
   "language": "python",
   "name": "python3"
  },
  "language_info": {
   "codemirror_mode": {
    "name": "ipython",
    "version": 3
   },
   "file_extension": ".py",
   "mimetype": "text/x-python",
   "name": "python",
   "nbconvert_exporter": "python",
   "pygments_lexer": "ipython3",
   "version": "3.6.4"
  }
 },
 "nbformat": 4,
 "nbformat_minor": 2
}
