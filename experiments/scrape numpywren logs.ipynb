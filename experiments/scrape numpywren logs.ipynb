{
 "cells": [
  {
   "cell_type": "code",
   "execution_count": 9,
   "metadata": {},
   "outputs": [
    {
     "name": "stdout",
     "output_type": "stream",
     "text": [
      "Populating the interactive namespace from numpy and matplotlib\n"
     ]
    }
   ],
   "source": [
    "%pylab inline"
   ]
  },
  {
   "cell_type": "code",
   "execution_count": 1,
   "metadata": {},
   "outputs": [
    {
     "name": "stdout",
     "output_type": "stream",
     "text": [
      "DEFAULT_BUCKET numpywrennsdi\n"
     ]
    }
   ],
   "source": [
    "import pywren\n",
    "import boto3\n",
    "import pickle\n",
    "import dill\n",
    "from numpywren.matrix_utils import list_all_keys\n",
    "import concurrent.futures as fs\n",
    "import seaborn as sns\n",
    "import numpywren.lambdapack as lp\n",
    "from collections import defaultdict"
   ]
  },
  {
   "cell_type": "code",
   "execution_count": 2,
   "metadata": {},
   "outputs": [],
   "source": [
    "def smooth(x,window_len=400,window='flat'):\n",
    "    \"\"\"smooth the data using a window with requested size.\n",
    "    \n",
    "    This method is based on the convolution of a scaled window with the signal.\n",
    "    The signal is prepared by introducing reflected copies of the signal \n",
    "    (with the window size) in both ends so that transient parts are minimized\n",
    "    in the begining and end part of the output signal.\n",
    "    \n",
    "    input:\n",
    "        x: the input signal \n",
    "        window_len: the dimension of the smoothing window; should be an odd integer\n",
    "        window: the type of window from 'flat', 'hanning', 'hamming', 'bartlett', 'blackman'\n",
    "            flat window will produce a moving average smoothing.\n",
    "\n",
    "    output:\n",
    "        the smoothed signal\n",
    "        \n",
    "    example:\n",
    "\n",
    "    t=linspace(-2,2,0.1)\n",
    "    x=sin(t)+randn(len(t))*0.1\n",
    "    y=smooth(x)\n",
    "    \n",
    "    see also: \n",
    "    \n",
    "    numpy.hanning, numpy.hamming, numpy.bartlett, numpy.blackman, numpy.convolve\n",
    "    scipy.signal.lfilter\n",
    " \n",
    "    TODO: the window parameter could be the window itself if an array instead of a string\n",
    "    NOTE: length(output) != length(input), to correct this: return y[(window_len/2-1):-(window_len/2)] instead of just y.\n",
    "    \"\"\"\n",
    "\n",
    "    if x.ndim != 1:\n",
    "        raise ValueError\n",
    "\n",
    "    if x.size < window_len:\n",
    "        raise ValueError\n",
    "\n",
    "\n",
    "    if window_len<3:\n",
    "        return x\n",
    "\n",
    "\n",
    "    if not window in ['flat', 'hanning', 'hamming', 'bartlett', 'blackman']:\n",
    "        raise ValueError\n",
    "\n",
    "\n",
    "    s=numpy.r_[x[window_len-1:0:-1],x,x[-2:-window_len-1:-1]]\n",
    "    #print(len(s))\n",
    "    if window == 'flat': #moving average\n",
    "        w=numpy.ones(window_len,'d')\n",
    "    else:\n",
    "        w=eval('numpy.'+window+'(window_len)')\n",
    "\n",
    "    y=numpy.convolve(w/w.sum(),s,mode='valid')\n",
    "    return y\n"
   ]
  },
  {
   "cell_type": "code",
   "execution_count": 3,
   "metadata": {},
   "outputs": [],
   "source": [
    "#PROGRAM_ID = \"1532144559\"\n",
    "#PROGRAM_ID = \"1536687372\"\n",
    "PROGRAM_ID = \"1537196779\"\n",
    "BUCKET = \"numpywrennsdi\""
   ]
  },
  {
   "cell_type": "markdown",
   "metadata": {},
   "source": [
    "## Load runtime data first\n",
    "runtime data is data collected from redis perf counters giving aggregate performance information"
   ]
  },
  {
   "cell_type": "code",
   "execution_count": 4,
   "metadata": {},
   "outputs": [],
   "source": [
    "s3_client = boto3.client(\"s3\")"
   ]
  },
  {
   "cell_type": "code",
   "execution_count": 5,
   "metadata": {},
   "outputs": [],
   "source": [
    "runtime_data = pickle.loads(s3_client.get_object(Bucket=BUCKET, Key=\"{0}/{1}/runtime.pickle\".format(\"lambdapack\", PROGRAM_ID))[\"Body\"].read())"
   ]
  },
  {
   "cell_type": "code",
   "execution_count": 6,
   "metadata": {},
   "outputs": [
    {
     "name": "stdout",
     "output_type": "stream",
     "text": [
      "<numpywren.compiler.CompiledLambdaPackProgram object at 0x7f472f508860>\n"
     ]
    }
   ],
   "source": [
    "print(runtime_data[\"program\"].program)"
   ]
  },
  {
   "cell_type": "markdown",
   "metadata": {},
   "source": [
    "### Here is a CDF of the total flops performed\n"
   ]
  },
  {
   "cell_type": "code",
   "execution_count": 7,
   "metadata": {},
   "outputs": [
    {
     "data": {
      "text/plain": [
       "83138.86277632"
      ]
     },
     "execution_count": 7,
     "metadata": {},
     "output_type": "execute_result"
    }
   ],
   "source": [
    "runtime_data[\"writes\"][-1]"
   ]
  },
  {
   "cell_type": "code",
   "execution_count": 10,
   "metadata": {},
   "outputs": [
    {
     "data": {
      "text/plain": [
       "Text(0,0.5,'GFLOPS computed')"
      ]
     },
     "execution_count": 10,
     "metadata": {},
     "output_type": "execute_result"
    },
    {
     "data": {
      "image/png": "[encoded data removed]",
      "text/plain": [
       "<Figure size 432x288 with 1 Axes>"
      ]
     },
     "metadata": {},
     "output_type": "display_data"
    }
   ],
   "source": [
    "plt.plot(runtime_data[\"times\"], runtime_data[\"flops\"])\n",
    "plt.xlabel(\"time\")\n",
    "plt.ylabel(\"GFLOPS computed\")"
   ]
  },
  {
   "cell_type": "markdown",
   "metadata": {},
   "source": [
    "### Here is a CDF of total bytes read "
   ]
  },
  {
   "cell_type": "code",
   "execution_count": 11,
   "metadata": {},
   "outputs": [
    {
     "data": {
      "text/plain": [
       "Text(0,0.5,'GBytes read')"
      ]
     },
     "execution_count": 11,
     "metadata": {},
     "output_type": "execute_result"
    },
    {
     "data": {
      "image/png": "[encoded data removed]",
      "text/plain": [
       "<Figure size 432x288 with 1 Axes>"
      ]
     },
     "metadata": {},
     "output_type": "display_data"
    }
   ],
   "source": [
    "plt.plot(np.array(runtime_data[\"times\"]) - np.array(runtime_data[\"times\"][0]), (1e9*np.array(runtime_data[\"writes\"])/((4096*4096*8))))\n",
    "plt.xlabel(\"time\")\n",
    "plt.ylabel(\"GBytes read\")"
   ]
  },
  {
   "cell_type": "code",
   "execution_count": null,
   "metadata": {},
   "outputs": [],
   "source": [
    "up_workers = np.array(runtime_data[\"up_workers\"])\n",
    "busy_workers = np.array(runtime_data[\"busy_workers\"])/3\n",
    "write_objects =  ((1e9*np.array(runtime_data[\"writes\"]))/((4096*4096*8)))[:-1]\n",
    "times = (np.array(runtime_data[\"times\"][:-1]) - np.array(runtime_data[\"times\"][0]))"
   ]
  },
  {
   "cell_type": "code",
   "execution_count": 40,
   "metadata": {},
   "outputs": [
    {
     "data": {
      "text/plain": [
       "74"
      ]
     },
     "execution_count": 40,
     "metadata": {},
     "output_type": "execute_result"
    }
   ],
   "source": [
    "np.min(up_workers)"
   ]
  },
  {
   "cell_type": "code",
   "execution_count": 41,
   "metadata": {},
   "outputs": [
    {
     "data": {
      "text/plain": [
       "[<matplotlib.lines.Line2D at 0x7f9c32cb4da0>]"
      ]
     },
     "execution_count": 41,
     "metadata": {},
     "output_type": "execute_result"
    },
    {
     "data": {
      "image/png": "[encoded data removed]",
      "text/plain": [
       "<matplotlib.figure.Figure at 0x7f9c32c9c400>"
      ]
     },
     "metadata": {},
     "output_type": "display_data"
    }
   ],
   "source": [
    "plt.plot(times, up_workers)"
   ]
  },
  {
   "cell_type": "code",
   "execution_count": 12,
   "metadata": {},
   "outputs": [
    {
     "ename": "NameError",
     "evalue": "name 'up_workers' is not defined",
     "output_type": "error",
     "traceback": [
      "\u001b[0;31m---------------------------------------------------------------------------\u001b[0m",
      "\u001b[0;31mNameError\u001b[0m                                 Traceback (most recent call last)",
      "\u001b[0;32m<ipython-input-12-d268decc1405>\u001b[0m in \u001b[0;36m<module>\u001b[0;34m()\u001b[0m\n\u001b[0;32m----> 1\u001b[0;31m \u001b[0mprint\u001b[0m\u001b[0;34m(\u001b[0m\u001b[0mup_workers\u001b[0m\u001b[0;34m.\u001b[0m\u001b[0mshape\u001b[0m\u001b[0;34m)\u001b[0m\u001b[0;34m\u001b[0m\u001b[0m\n\u001b[0m\u001b[1;32m      2\u001b[0m \u001b[0mprint\u001b[0m\u001b[0;34m(\u001b[0m\u001b[0mtimes\u001b[0m\u001b[0;34m.\u001b[0m\u001b[0mshape\u001b[0m\u001b[0;34m)\u001b[0m\u001b[0;34m\u001b[0m\u001b[0m\n\u001b[1;32m      3\u001b[0m \u001b[0mprint\u001b[0m\u001b[0;34m(\u001b[0m\u001b[0mbusy_workers\u001b[0m\u001b[0;34m.\u001b[0m\u001b[0mshape\u001b[0m\u001b[0;34m)\u001b[0m\u001b[0;34m\u001b[0m\u001b[0m\n\u001b[1;32m      4\u001b[0m \u001b[0mprint\u001b[0m\u001b[0;34m(\u001b[0m\u001b[0mwrite_objects\u001b[0m\u001b[0;34m.\u001b[0m\u001b[0mshape\u001b[0m\u001b[0;34m)\u001b[0m\u001b[0;34m\u001b[0m\u001b[0m\n",
      "\u001b[0;31mNameError\u001b[0m: name 'up_workers' is not defined"
     ]
    }
   ],
   "source": [
    "print(up_workers.shape)\n",
    "print(times.shape)\n",
    "print(busy_workers.shape)\n",
    "print(write_objects.shape)"
   ]
  },
  {
   "cell_type": "code",
   "execution_count": 43,
   "metadata": {},
   "outputs": [],
   "source": [
    "data = np.hstack((up_workers[:, np.newaxis], busy_workers[:, np.newaxis], write_objects[:, np.newaxis], times[:, np.newaxis]))"
   ]
  },
  {
   "cell_type": "code",
   "execution_count": 44,
   "metadata": {},
   "outputs": [
    {
     "name": "stdout",
     "output_type": "stream",
     "text": [
      "(4984,)\n",
      "(4984,)\n",
      "(4984,)\n"
     ]
    }
   ],
   "source": [
    "print(up_workers.shape)\n",
    "print(write_objects.shape)\n",
    "print(times.shape)\n"
   ]
  },
  {
   "cell_type": "code",
   "execution_count": 45,
   "metadata": {},
   "outputs": [
    {
     "data": {
      "text/plain": [
       "261128"
      ]
     },
     "execution_count": 45,
     "metadata": {},
     "output_type": "execute_result"
    }
   ],
   "source": [
    "import pandas as pd\n",
    "csv_data = pd.DataFrame(data=data, columns=[\"lambdas\", \"busy_lambdas\", \"write_objects\", \"times\"]).to_csv()\n",
    "\n",
    "open(\"shiv_data_2.csv\", \"w+\").write(csv_data)"
   ]
  },
  {
   "cell_type": "markdown",
   "metadata": {},
   "source": [
    "### Here is a CDF of total bytes written"
   ]
  },
  {
   "cell_type": "code",
   "execution_count": 46,
   "metadata": {},
   "outputs": [
    {
     "data": {
      "text/plain": [
       "Text(0,0.5,'GBytes write')"
      ]
     },
     "execution_count": 46,
     "metadata": {},
     "output_type": "execute_result"
    },
    {
     "data": {
      "image/png": "[encoded data removed]",
      "text/plain": [
       "<matplotlib.figure.Figure at 0x7f9c32c9c588>"
      ]
     },
     "metadata": {},
     "output_type": "display_data"
    }
   ],
   "source": [
    "plt.plot(runtime_data[\"times\"], runtime_data[\"reads\"])\n",
    "plt.xlabel(\"time\")\n",
    "plt.ylabel(\"GBytes write\")"
   ]
  },
  {
   "cell_type": "code",
   "execution_count": 47,
   "metadata": {},
   "outputs": [],
   "source": [
    "times = runtime_data[\"times\"]"
   ]
  },
  {
   "cell_type": "code",
   "execution_count": 48,
   "metadata": {},
   "outputs": [
    {
     "data": {
      "text/plain": [
       "[1536648609.2659605,\n",
       " 1536648636,\n",
       " 1536648641,\n",
       " 1536648646,\n",
       " 1536648651,\n",
       " 1536648656,\n",
       " 1536648661,\n",
       " 1536648666,\n",
       " 1536648671,\n",
       " 1536648676,\n",
       " 1536648681,\n",
       " 1536648686,\n",
       " 1536648691,\n",
       " 1536648696,\n",
       " 1536648701,\n",
       " 1536648706,\n",
       " 1536648711,\n",
       " 1536648716,\n",
       " 1536648721,\n",
       " 1536648726,\n",
       " 1536648731,\n",
       " 1536648736,\n",
       " 1536648741,\n",
       " 1536648746,\n",
       " 1536648751,\n",
       " 1536648756,\n",
       " 1536648761,\n",
       " 1536648766,\n",
       " 1536648771,\n",
       " 1536648777,\n",
       " 1536648782,\n",
       " 1536648787,\n",
       " 1536648792,\n",
       " 1536648797,\n",
       " 1536648802,\n",
       " 1536648807,\n",
       " 1536648812,\n",
       " 1536648817,\n",
       " 1536648822,\n",
       " 1536648827,\n",
       " 1536648832,\n",
       " 1536648837,\n",
       " 1536648842,\n",
       " 1536648847,\n",
       " 1536648852,\n",
       " 1536648857,\n",
       " 1536648862,\n",
       " 1536648867,\n",
       " 1536648872,\n",
       " 1536648877,\n",
       " 1536648882,\n",
       " 1536648887,\n",
       " 1536648892,\n",
       " 1536648897,\n",
       " 1536648903,\n",
       " 1536648908,\n",
       " 1536648913,\n",
       " 1536648918,\n",
       " 1536648923,\n",
       " 1536648928,\n",
       " 1536648933,\n",
       " 1536648938,\n",
       " 1536648943,\n",
       " 1536648948,\n",
       " 1536648953,\n",
       " 1536648958,\n",
       " 1536648963,\n",
       " 1536648968,\n",
       " 1536648973,\n",
       " 1536648978,\n",
       " 1536648983,\n",
       " 1536648988,\n",
       " 1536648993,\n",
       " 1536648998,\n",
       " 1536649003,\n",
       " 1536649008,\n",
       " 1536649013,\n",
       " 1536649018,\n",
       " 1536649023,\n",
       " 1536649028,\n",
       " 1536649033,\n",
       " 1536649039,\n",
       " 1536649044,\n",
       " 1536649049,\n",
       " 1536649054,\n",
       " 1536649059,\n",
       " 1536649064,\n",
       " 1536649069,\n",
       " 1536649074,\n",
       " 1536649079,\n",
       " 1536649084,\n",
       " 1536649089,\n",
       " 1536649094,\n",
       " 1536649099,\n",
       " 1536649104,\n",
       " 1536649109,\n",
       " 1536649114,\n",
       " 1536649119,\n",
       " 1536649124,\n",
       " 1536649129,\n",
       " 1536649134,\n",
       " 1536649139,\n",
       " 1536649144,\n",
       " 1536649149,\n",
       " 1536649154,\n",
       " 1536649159,\n",
       " 1536649164,\n",
       " 1536649170,\n",
       " 1536649175,\n",
       " 1536649180,\n",
       " 1536649185,\n",
       " 1536649190,\n",
       " 1536649195,\n",
       " 1536649200,\n",
       " 1536649205,\n",
       " 1536649210,\n",
       " 1536649215,\n",
       " 1536649220,\n",
       " 1536649225,\n",
       " 1536649230,\n",
       " 1536649235,\n",
       " 1536649240,\n",
       " 1536649245,\n",
       " 1536649250,\n",
       " 1536649255,\n",
       " 1536649260,\n",
       " 1536649265,\n",
       " 1536649270,\n",
       " 1536649275,\n",
       " 1536649280,\n",
       " 1536649285,\n",
       " 1536649290,\n",
       " 1536649295,\n",
       " 1536649301,\n",
       " 1536649306,\n",
       " 1536649311,\n",
       " 1536649316,\n",
       " 1536649321,\n",
       " 1536649326,\n",
       " 1536649331,\n",
       " 1536649336,\n",
       " 1536649341,\n",
       " 1536649346,\n",
       " 1536649351,\n",
       " 1536649356,\n",
       " 1536649361,\n",
       " 1536649366,\n",
       " 1536649371,\n",
       " 1536649376,\n",
       " 1536649381,\n",
       " 1536649386,\n",
       " 1536649391,\n",
       " 1536649396,\n",
       " 1536649401,\n",
       " 1536649406,\n",
       " 1536649411,\n",
       " 1536649416,\n",
       " 1536649421,\n",
       " 1536649426,\n",
       " 1536649431,\n",
       " 1536649436,\n",
       " 1536649441,\n",
       " 1536649447,\n",
       " 1536649452,\n",
       " 1536649457,\n",
       " 1536649462,\n",
       " 1536649467,\n",
       " 1536649472,\n",
       " 1536649477,\n",
       " 1536649482,\n",
       " 1536649487,\n",
       " 1536649492,\n",
       " 1536649497,\n",
       " 1536649502,\n",
       " 1536649507,\n",
       " 1536649512,\n",
       " 1536649517,\n",
       " 1536649522,\n",
       " 1536649527,\n",
       " 1536649532,\n",
       " 1536649537,\n",
       " 1536649542,\n",
       " 1536649547,\n",
       " 1536649552,\n",
       " 1536649557,\n",
       " 1536649562,\n",
       " 1536649567,\n",
       " 1536649572,\n",
       " 1536649577,\n",
       " 1536649582,\n",
       " 1536649587,\n",
       " 1536649592,\n",
       " 1536649598,\n",
       " 1536649603,\n",
       " 1536649608,\n",
       " 1536649613,\n",
       " 1536649618,\n",
       " 1536649623,\n",
       " 1536649628,\n",
       " 1536649633,\n",
       " 1536649638,\n",
       " 1536649643,\n",
       " 1536649648,\n",
       " 1536649653,\n",
       " 1536649658,\n",
       " 1536649663,\n",
       " 1536649668,\n",
       " 1536649673,\n",
       " 1536649678,\n",
       " 1536649683,\n",
       " 1536649688,\n",
       " 1536649693,\n",
       " 1536649698,\n",
       " 1536649703,\n",
       " 1536649708,\n",
       " 1536649713,\n",
       " 1536649718,\n",
       " 1536649723,\n",
       " 1536649728,\n",
       " 1536649733,\n",
       " 1536649738,\n",
       " 1536649744,\n",
       " 1536649749,\n",
       " 1536649754,\n",
       " 1536649759,\n",
       " 1536649764,\n",
       " 1536649769,\n",
       " 1536649774,\n",
       " 1536649779,\n",
       " 1536649784,\n",
       " 1536649789,\n",
       " 1536649794,\n",
       " 1536649799,\n",
       " 1536649804,\n",
       " 1536649809,\n",
       " 1536649814,\n",
       " 1536649819,\n",
       " 1536649824,\n",
       " 1536649829,\n",
       " 1536649834,\n",
       " 1536649839,\n",
       " 1536649844,\n",
       " 1536649849,\n",
       " 1536649854,\n",
       " 1536649859,\n",
       " 1536649864,\n",
       " 1536649869,\n",
       " 1536649874,\n",
       " 1536649879,\n",
       " 1536649884,\n",
       " 1536649890,\n",
       " 1536649895,\n",
       " 1536649900,\n",
       " 1536649905,\n",
       " 1536649910,\n",
       " 1536649915,\n",
       " 1536649920,\n",
       " 1536649925,\n",
       " 1536649930,\n",
       " 1536649935,\n",
       " 1536649940,\n",
       " 1536649945,\n",
       " 1536649950,\n",
       " 1536649955,\n",
       " 1536649960,\n",
       " 1536649965,\n",
       " 1536649970,\n",
       " 1536649975,\n",
       " 1536649980,\n",
       " 1536649985,\n",
       " 1536649990,\n",
       " 1536649995,\n",
       " 1536650000,\n",
       " 1536650005,\n",
       " 1536650010,\n",
       " 1536650015,\n",
       " 1536650021,\n",
       " 1536650026,\n",
       " 1536650031,\n",
       " 1536650036,\n",
       " 1536650041,\n",
       " 1536650046,\n",
       " 1536650051,\n",
       " 1536650056,\n",
       " 1536650061,\n",
       " 1536650066,\n",
       " 1536650071,\n",
       " 1536650076,\n",
       " 1536650081,\n",
       " 1536650086,\n",
       " 1536650091,\n",
       " 1536650096,\n",
       " 1536650101,\n",
       " 1536650106,\n",
       " 1536650111,\n",
       " 1536650116,\n",
       " 1536650121,\n",
       " 1536650126,\n",
       " 1536650131,\n",
       " 1536650136,\n",
       " 1536650141,\n",
       " 1536650146,\n",
       " 1536650151,\n",
       " 1536650156,\n",
       " 1536650162,\n",
       " 1536650167,\n",
       " 1536650172,\n",
       " 1536650177,\n",
       " 1536650182,\n",
       " 1536650187,\n",
       " 1536650192,\n",
       " 1536650197,\n",
       " 1536650202,\n",
       " 1536650207,\n",
       " 1536650212,\n",
       " 1536650217,\n",
       " 1536650222,\n",
       " 1536650227,\n",
       " 1536650232,\n",
       " 1536650237,\n",
       " 1536650242,\n",
       " 1536650247,\n",
       " 1536650252,\n",
       " 1536650257,\n",
       " 1536650262,\n",
       " 1536650267,\n",
       " 1536650272,\n",
       " 1536650277,\n",
       " 1536650282,\n",
       " 1536650287,\n",
       " 1536650292,\n",
       " 1536650297,\n",
       " 1536650302,\n",
       " 1536650307,\n",
       " 1536650312,\n",
       " 1536650318,\n",
       " 1536650323,\n",
       " 1536650328,\n",
       " 1536650333,\n",
       " 1536650338,\n",
       " 1536650343,\n",
       " 1536650348,\n",
       " 1536650353,\n",
       " 1536650358,\n",
       " 1536650363,\n",
       " 1536650368,\n",
       " 1536650373,\n",
       " 1536650378,\n",
       " 1536650383,\n",
       " 1536650388,\n",
       " 1536650393,\n",
       " 1536650398,\n",
       " 1536650403,\n",
       " 1536650408,\n",
       " 1536650413,\n",
       " 1536650418,\n",
       " 1536650423,\n",
       " 1536650428,\n",
       " 1536650433,\n",
       " 1536650438,\n",
       " 1536650443,\n",
       " 1536650448,\n",
       " 1536650453,\n",
       " 1536650459,\n",
       " 1536650464,\n",
       " 1536650469,\n",
       " 1536650474,\n",
       " 1536650479,\n",
       " 1536650484,\n",
       " 1536650489,\n",
       " 1536650494,\n",
       " 1536650499,\n",
       " 1536650504,\n",
       " 1536650509,\n",
       " 1536650514,\n",
       " 1536650519,\n",
       " 1536650524,\n",
       " 1536650529,\n",
       " 1536650534,\n",
       " 1536650539,\n",
       " 1536650544,\n",
       " 1536650549,\n",
       " 1536650554,\n",
       " 1536650559,\n",
       " 1536650564,\n",
       " 1536650569,\n",
       " 1536650574,\n",
       " 1536650579,\n",
       " 1536650584,\n",
       " 1536650589,\n",
       " 1536650594,\n",
       " 1536650600,\n",
       " 1536650605,\n",
       " 1536650610,\n",
       " 1536650615,\n",
       " 1536650620,\n",
       " 1536650625,\n",
       " 1536650630,\n",
       " 1536650635,\n",
       " 1536650640,\n",
       " 1536650645,\n",
       " 1536650650,\n",
       " 1536650655,\n",
       " 1536650660,\n",
       " 1536650665,\n",
       " 1536650670,\n",
       " 1536650675,\n",
       " 1536650680,\n",
       " 1536650685,\n",
       " 1536650690,\n",
       " 1536650695,\n",
       " 1536650700,\n",
       " 1536650705,\n",
       " 1536650710,\n",
       " 1536650715,\n",
       " 1536650720,\n",
       " 1536650725,\n",
       " 1536650730,\n",
       " 1536650735,\n",
       " 1536650740,\n",
       " 1536650745,\n",
       " 1536650751,\n",
       " 1536650756,\n",
       " 1536650761,\n",
       " 1536650766,\n",
       " 1536650771,\n",
       " 1536650776,\n",
       " 1536650781,\n",
       " 1536650786,\n",
       " 1536650791,\n",
       " 1536650796,\n",
       " 1536650801,\n",
       " 1536650806,\n",
       " 1536650811,\n",
       " 1536650816,\n",
       " 1536650821,\n",
       " 1536650826,\n",
       " 1536650831,\n",
       " 1536650836,\n",
       " 1536650841,\n",
       " 1536650846,\n",
       " 1536650851,\n",
       " 1536650856,\n",
       " 1536650861,\n",
       " 1536650866,\n",
       " 1536650871,\n",
       " 1536650876,\n",
       " 1536650881,\n",
       " 1536650887,\n",
       " 1536650892,\n",
       " 1536650897,\n",
       " 1536650902,\n",
       " 1536650907,\n",
       " 1536650912,\n",
       " 1536650917,\n",
       " 1536650922,\n",
       " 1536650927,\n",
       " 1536650932,\n",
       " 1536650937,\n",
       " 1536650942,\n",
       " 1536650947,\n",
       " 1536650952,\n",
       " 1536650957,\n",
       " 1536650962,\n",
       " 1536650967,\n",
       " 1536650972,\n",
       " 1536650977,\n",
       " 1536650982,\n",
       " 1536650987,\n",
       " 1536650992,\n",
       " 1536650997,\n",
       " 1536651002,\n",
       " 1536651007,\n",
       " 1536651012,\n",
       " 1536651017,\n",
       " 1536651022,\n",
       " 1536651028,\n",
       " 1536651033,\n",
       " 1536651038,\n",
       " 1536651043,\n",
       " 1536651048,\n",
       " 1536651053,\n",
       " 1536651058,\n",
       " 1536651063,\n",
       " 1536651068,\n",
       " 1536651073,\n",
       " 1536651078,\n",
       " 1536651083,\n",
       " 1536651088,\n",
       " 1536651093,\n",
       " 1536651098,\n",
       " 1536651103,\n",
       " 1536651108,\n",
       " 1536651113,\n",
       " 1536651118,\n",
       " 1536651123,\n",
       " 1536651129,\n",
       " 1536651134,\n",
       " 1536651139,\n",
       " 1536651144,\n",
       " 1536651149,\n",
       " 1536651154,\n",
       " 1536651159,\n",
       " 1536651164,\n",
       " 1536651169,\n",
       " 1536651174,\n",
       " 1536651179,\n",
       " 1536651184,\n",
       " 1536651189,\n",
       " 1536651194,\n",
       " 1536651199,\n",
       " 1536651204,\n",
       " 1536651209,\n",
       " 1536651214,\n",
       " 1536651219,\n",
       " 1536651224,\n",
       " 1536651229,\n",
       " 1536651234,\n",
       " 1536651239,\n",
       " 1536651244,\n",
       " 1536651249,\n",
       " 1536651254,\n",
       " 1536651259,\n",
       " 1536651264,\n",
       " 1536651269,\n",
       " 1536651275,\n",
       " 1536651280,\n",
       " 1536651285,\n",
       " 1536651290,\n",
       " 1536651295,\n",
       " 1536651300,\n",
       " 1536651305,\n",
       " 1536651310,\n",
       " 1536651315,\n",
       " 1536651320,\n",
       " 1536651325,\n",
       " 1536651330,\n",
       " 1536651335,\n",
       " 1536651340,\n",
       " 1536651345,\n",
       " 1536651350,\n",
       " 1536651355,\n",
       " 1536651360,\n",
       " 1536651365,\n",
       " 1536651370,\n",
       " 1536651375,\n",
       " 1536651380,\n",
       " 1536651385,\n",
       " 1536651390,\n",
       " 1536651395,\n",
       " 1536651400,\n",
       " 1536651405,\n",
       " 1536651410,\n",
       " 1536651415,\n",
       " 1536651421,\n",
       " 1536651426,\n",
       " 1536651431,\n",
       " 1536651436,\n",
       " 1536651441,\n",
       " 1536651446,\n",
       " 1536651451,\n",
       " 1536651456,\n",
       " 1536651461,\n",
       " 1536651466,\n",
       " 1536651471,\n",
       " 1536651476,\n",
       " 1536651481,\n",
       " 1536651486,\n",
       " 1536651491,\n",
       " 1536651496,\n",
       " 1536651501,\n",
       " 1536651506,\n",
       " 1536651511,\n",
       " 1536651516,\n",
       " 1536651521,\n",
       " 1536651526,\n",
       " 1536651531,\n",
       " 1536651536,\n",
       " 1536651541,\n",
       " 1536651546,\n",
       " 1536651551,\n",
       " 1536651556,\n",
       " 1536651561,\n",
       " 1536651566,\n",
       " 1536651571,\n",
       " 1536651577,\n",
       " 1536651582,\n",
       " 1536651587,\n",
       " 1536651592,\n",
       " 1536651597,\n",
       " 1536651602,\n",
       " 1536651607,\n",
       " 1536651612,\n",
       " 1536651617,\n",
       " 1536651622,\n",
       " 1536651627,\n",
       " 1536651632,\n",
       " 1536651637,\n",
       " 1536651642,\n",
       " 1536651647,\n",
       " 1536651652,\n",
       " 1536651657,\n",
       " 1536651662,\n",
       " 1536651667,\n",
       " 1536651672,\n",
       " 1536651677,\n",
       " 1536651682,\n",
       " 1536651687,\n",
       " 1536651692,\n",
       " 1536651697,\n",
       " 1536651702,\n",
       " 1536651707,\n",
       " 1536651712,\n",
       " 1536651717,\n",
       " 1536651722,\n",
       " 1536651727,\n",
       " 1536651733,\n",
       " 1536651738,\n",
       " 1536651743,\n",
       " 1536651748,\n",
       " 1536651753,\n",
       " 1536651758,\n",
       " 1536651763,\n",
       " 1536651768,\n",
       " 1536651773,\n",
       " 1536651778,\n",
       " 1536651783,\n",
       " 1536651788,\n",
       " 1536651793,\n",
       " 1536651798,\n",
       " 1536651803,\n",
       " 1536651808,\n",
       " 1536651813,\n",
       " 1536651818,\n",
       " 1536651823,\n",
       " 1536651828,\n",
       " 1536651833,\n",
       " 1536651838,\n",
       " 1536651843,\n",
       " 1536651848,\n",
       " 1536651853,\n",
       " 1536651858,\n",
       " 1536651863,\n",
       " 1536651868,\n",
       " 1536651873,\n",
       " 1536651878,\n",
       " 1536651884,\n",
       " 1536651889,\n",
       " 1536651894,\n",
       " 1536651899,\n",
       " 1536651904,\n",
       " 1536651909,\n",
       " 1536651914,\n",
       " 1536651919,\n",
       " 1536651924,\n",
       " 1536651929,\n",
       " 1536651934,\n",
       " 1536651939,\n",
       " 1536651944,\n",
       " 1536651949,\n",
       " 1536651954,\n",
       " 1536651959,\n",
       " 1536651964,\n",
       " 1536651969,\n",
       " 1536651974,\n",
       " 1536651979,\n",
       " 1536651984,\n",
       " 1536651989,\n",
       " 1536651994,\n",
       " 1536651999,\n",
       " 1536652004,\n",
       " 1536652009,\n",
       " 1536652014,\n",
       " 1536652019,\n",
       " 1536652025,\n",
       " 1536652030,\n",
       " 1536652035,\n",
       " 1536652040,\n",
       " 1536652045,\n",
       " 1536652050,\n",
       " 1536652055,\n",
       " 1536652060,\n",
       " 1536652065,\n",
       " 1536652070,\n",
       " 1536652075,\n",
       " 1536652080,\n",
       " 1536652085,\n",
       " 1536652090,\n",
       " 1536652095,\n",
       " 1536652100,\n",
       " 1536652105,\n",
       " 1536652110,\n",
       " 1536652115,\n",
       " 1536652120,\n",
       " 1536652125,\n",
       " 1536652130,\n",
       " 1536652135,\n",
       " 1536652140,\n",
       " 1536652145,\n",
       " 1536652150,\n",
       " 1536652155,\n",
       " 1536652160,\n",
       " 1536652165,\n",
       " 1536652171,\n",
       " 1536652176,\n",
       " 1536652181,\n",
       " 1536652186,\n",
       " 1536652191,\n",
       " 1536652196,\n",
       " 1536652201,\n",
       " 1536652206,\n",
       " 1536652211,\n",
       " 1536652216,\n",
       " 1536652221,\n",
       " 1536652226,\n",
       " 1536652231,\n",
       " 1536652236,\n",
       " 1536652241,\n",
       " 1536652246,\n",
       " 1536652251,\n",
       " 1536652256,\n",
       " 1536652261,\n",
       " 1536652266,\n",
       " 1536652271,\n",
       " 1536652276,\n",
       " 1536652281,\n",
       " 1536652286,\n",
       " 1536652291,\n",
       " 1536652296,\n",
       " 1536652301,\n",
       " 1536652306,\n",
       " 1536652311,\n",
       " 1536652316,\n",
       " 1536652321,\n",
       " 1536652326,\n",
       " 1536652331,\n",
       " 1536652337,\n",
       " 1536652342,\n",
       " 1536652347,\n",
       " 1536652352,\n",
       " 1536652357,\n",
       " 1536652362,\n",
       " 1536652367,\n",
       " 1536652372,\n",
       " 1536652377,\n",
       " 1536652382,\n",
       " 1536652387,\n",
       " 1536652392,\n",
       " 1536652397,\n",
       " 1536652402,\n",
       " 1536652407,\n",
       " 1536652412,\n",
       " 1536652417,\n",
       " 1536652422,\n",
       " 1536652427,\n",
       " 1536652432,\n",
       " 1536652437,\n",
       " 1536652442,\n",
       " 1536652447,\n",
       " 1536652452,\n",
       " 1536652457,\n",
       " 1536652462,\n",
       " 1536652467,\n",
       " 1536652472,\n",
       " 1536652477,\n",
       " 1536652482,\n",
       " 1536652487,\n",
       " 1536652492,\n",
       " 1536652497,\n",
       " 1536652503,\n",
       " 1536652508,\n",
       " 1536652513,\n",
       " 1536652518,\n",
       " 1536652523,\n",
       " 1536652528,\n",
       " 1536652533,\n",
       " 1536652538,\n",
       " 1536652543,\n",
       " 1536652548,\n",
       " 1536652553,\n",
       " 1536652558,\n",
       " 1536652563,\n",
       " 1536652568,\n",
       " 1536652573,\n",
       " 1536652578,\n",
       " 1536652583,\n",
       " 1536652588,\n",
       " 1536652593,\n",
       " 1536652598,\n",
       " 1536652603,\n",
       " 1536652608,\n",
       " 1536652613,\n",
       " 1536652618,\n",
       " 1536652623,\n",
       " 1536652628,\n",
       " 1536652633,\n",
       " 1536652638,\n",
       " 1536652643,\n",
       " 1536652648,\n",
       " 1536652653,\n",
       " 1536652659,\n",
       " 1536652664,\n",
       " 1536652669,\n",
       " 1536652674,\n",
       " 1536652679,\n",
       " 1536652684,\n",
       " 1536652689,\n",
       " 1536652694,\n",
       " 1536652699,\n",
       " 1536652704,\n",
       " 1536652709,\n",
       " 1536652714,\n",
       " 1536652719,\n",
       " 1536652724,\n",
       " 1536652729,\n",
       " 1536652734,\n",
       " 1536652739,\n",
       " 1536652744,\n",
       " 1536652749,\n",
       " 1536652754,\n",
       " 1536652759,\n",
       " 1536652764,\n",
       " 1536652769,\n",
       " 1536652774,\n",
       " 1536652779,\n",
       " 1536652784,\n",
       " 1536652789,\n",
       " 1536652794,\n",
       " 1536652799,\n",
       " 1536652804,\n",
       " 1536652809,\n",
       " 1536652815,\n",
       " 1536652820,\n",
       " 1536652825,\n",
       " 1536652830,\n",
       " 1536652835,\n",
       " 1536652840,\n",
       " 1536652845,\n",
       " 1536652850,\n",
       " 1536652855,\n",
       " 1536652860,\n",
       " 1536652865,\n",
       " 1536652870,\n",
       " 1536652875,\n",
       " 1536652880,\n",
       " 1536652885,\n",
       " 1536652890,\n",
       " 1536652895,\n",
       " 1536652900,\n",
       " 1536652905,\n",
       " 1536652910,\n",
       " 1536652915,\n",
       " 1536652920,\n",
       " 1536652925,\n",
       " 1536652930,\n",
       " 1536652935,\n",
       " 1536652940,\n",
       " 1536652945,\n",
       " 1536652951,\n",
       " 1536652956,\n",
       " 1536652961,\n",
       " 1536652966,\n",
       " 1536652971,\n",
       " 1536652976,\n",
       " 1536652981,\n",
       " 1536652986,\n",
       " 1536652991,\n",
       " 1536652996,\n",
       " 1536653001,\n",
       " 1536653006,\n",
       " 1536653011,\n",
       " 1536653016,\n",
       " 1536653021,\n",
       " 1536653026,\n",
       " 1536653031,\n",
       " 1536653036,\n",
       " 1536653041,\n",
       " 1536653046,\n",
       " 1536653051,\n",
       " 1536653056,\n",
       " 1536653061,\n",
       " 1536653066,\n",
       " 1536653071,\n",
       " 1536653076,\n",
       " 1536653081,\n",
       " 1536653086,\n",
       " 1536653091,\n",
       " 1536653096,\n",
       " 1536653101,\n",
       " 1536653106,\n",
       " 1536653111,\n",
       " 1536653117,\n",
       " 1536653122,\n",
       " 1536653127,\n",
       " 1536653132,\n",
       " 1536653137,\n",
       " 1536653142,\n",
       " 1536653147,\n",
       " 1536653152,\n",
       " 1536653157,\n",
       " 1536653162,\n",
       " 1536653167,\n",
       " 1536653172,\n",
       " 1536653177,\n",
       " 1536653182,\n",
       " 1536653187,\n",
       " 1536653192,\n",
       " 1536653197,\n",
       " 1536653202,\n",
       " 1536653207,\n",
       " 1536653212,\n",
       " 1536653217,\n",
       " 1536653222,\n",
       " 1536653227,\n",
       " 1536653232,\n",
       " 1536653237,\n",
       " 1536653242,\n",
       " 1536653247,\n",
       " 1536653252,\n",
       " 1536653257,\n",
       " 1536653262,\n",
       " 1536653267,\n",
       " 1536653272,\n",
       " 1536653277,\n",
       " 1536653283,\n",
       " 1536653288,\n",
       " 1536653293,\n",
       " 1536653298,\n",
       " 1536653303,\n",
       " 1536653308,\n",
       " 1536653313,\n",
       " 1536653318,\n",
       " 1536653323,\n",
       " 1536653328,\n",
       " 1536653333,\n",
       " 1536653338,\n",
       " 1536653343,\n",
       " 1536653348,\n",
       " 1536653353,\n",
       " 1536653358,\n",
       " 1536653363,\n",
       " 1536653368,\n",
       " 1536653373,\n",
       " 1536653378,\n",
       " 1536653383,\n",
       " 1536653388,\n",
       " 1536653393,\n",
       " 1536653398,\n",
       " 1536653403,\n",
       " 1536653408,\n",
       " 1536653413,\n",
       " 1536653418,\n",
       " 1536653423,\n",
       " 1536653428,\n",
       " 1536653433,\n",
       " 1536653439,\n",
       " 1536653444,\n",
       " 1536653449,\n",
       " 1536653454,\n",
       " 1536653459,\n",
       " 1536653464,\n",
       " 1536653469,\n",
       " 1536653474,\n",
       " 1536653479,\n",
       " 1536653484,\n",
       " 1536653489,\n",
       " 1536653494,\n",
       " 1536653499,\n",
       " 1536653504,\n",
       " 1536653509,\n",
       " 1536653514,\n",
       " 1536653519,\n",
       " 1536653524,\n",
       " 1536653529,\n",
       " 1536653534,\n",
       " 1536653539,\n",
       " 1536653544,\n",
       " 1536653549,\n",
       " 1536653554,\n",
       " 1536653559,\n",
       " 1536653564,\n",
       " 1536653569,\n",
       " 1536653574,\n",
       " 1536653579,\n",
       " 1536653584,\n",
       " 1536653590,\n",
       " 1536653595,\n",
       " 1536653600,\n",
       " 1536653605,\n",
       " 1536653610,\n",
       " 1536653615,\n",
       " 1536653620,\n",
       " 1536653625,\n",
       " 1536653630,\n",
       " 1536653635,\n",
       " 1536653640,\n",
       " 1536653645,\n",
       " 1536653650,\n",
       " 1536653655,\n",
       " 1536653660,\n",
       " ...]"
      ]
     },
     "execution_count": 48,
     "metadata": {},
     "output_type": "execute_result"
    }
   ],
   "source": [
    "times"
   ]
  },
  {
   "cell_type": "code",
   "execution_count": 12,
   "metadata": {},
   "outputs": [
    {
     "name": "stderr",
     "output_type": "stream",
     "text": [
      "/home/ubuntu/anaconda3/lib/python3.6/site-packages/numpy/core/fromnumeric.py:2957: RuntimeWarning: Mean of empty slice.\n",
      "  out=out, **kwargs)\n",
      "/home/ubuntu/anaconda3/lib/python3.6/site-packages/numpy/core/_methods.py:80: RuntimeWarning: invalid value encountered in double_scalars\n",
      "  ret = ret.dtype.type(ret / rcount)\n"
     ]
    },
    {
     "data": {
      "text/plain": [
       "nan"
      ]
     },
     "execution_count": 12,
     "metadata": {},
     "output_type": "execute_result"
    }
   ],
   "source": [
    "np.mean(np.gradient(runtime_data[\"times\"])[100:])"
   ]
  },
  {
   "cell_type": "code",
   "execution_count": 13,
   "metadata": {},
   "outputs": [
    {
     "ename": "NameError",
     "evalue": "name 'times' is not defined",
     "output_type": "error",
     "traceback": [
      "\u001b[0;31m---------------------------------------------------------------------------\u001b[0m",
      "\u001b[0;31mNameError\u001b[0m                                 Traceback (most recent call last)",
      "\u001b[0;32m<ipython-input-13-ab9204a4783f>\u001b[0m in \u001b[0;36m<module>\u001b[0;34m()\u001b[0m\n\u001b[0;32m----> 1\u001b[0;31m \u001b[0mtimes\u001b[0m\u001b[0;34m[\u001b[0m\u001b[0;34m-\u001b[0m\u001b[0;36m1\u001b[0m\u001b[0;34m]\u001b[0m \u001b[0;34m-\u001b[0m \u001b[0mtimes\u001b[0m\u001b[0;34m[\u001b[0m\u001b[0;36m0\u001b[0m\u001b[0;34m]\u001b[0m\u001b[0;34m\u001b[0m\u001b[0m\n\u001b[0m",
      "\u001b[0;31mNameError\u001b[0m: name 'times' is not defined"
     ]
    }
   ],
   "source": [
    "times[-1] - times[0]"
   ]
  },
  {
   "cell_type": "code",
   "execution_count": 14,
   "metadata": {},
   "outputs": [
    {
     "data": {
      "text/plain": [
       "[<matplotlib.lines.Line2D at 0x7f013bd12518>]"
      ]
     },
     "execution_count": 14,
     "metadata": {},
     "output_type": "execute_result"
    },
    {
     "data": {
      "image/png": "[encoded data removed]",
      "text/plain": [
       "<matplotlib.figure.Figure at 0x7f013be6b4a8>"
      ]
     },
     "metadata": {},
     "output_type": "display_data"
    }
   ],
   "source": [
    "plt.plot(runtime_data[\"up_workers\"])"
   ]
  },
  {
   "cell_type": "code",
   "execution_count": 18,
   "metadata": {},
   "outputs": [
    {
     "data": {
      "text/plain": [
       "Text(0,0.5,'TFLOP/s Rate')"
      ]
     },
     "execution_count": 18,
     "metadata": {},
     "output_type": "execute_result"
    },
    {
     "data": {
      "image/png": "[encoded data removed]",
      "text/plain": [
       "<Figure size 432x288 with 1 Axes>"
      ]
     },
     "metadata": {},
     "output_type": "display_data"
    }
   ],
   "source": [
    "#plt.plot(smooth(np.gradient(runtime_data[\"writes\"])/np.gradient(runtime_data[\"times\"][:-1]), window_len=1), label=\"smoothed\")\n",
    "plt.plot(smooth(np.gradient(runtime_data[\"flops\"])/np.gradient(runtime_data[\"times\"]), window_len=300), label=\"smoothed\")\n",
    "#plt.plot(smooth(np.array(times[:-1]), window_len=1), smooth(np.gradient(runtime_data[\"writes\"]), window_len=1), label=\"raw\")\n",
    "plt.xlabel(\"time\")\n",
    "plt.ylabel(\"TFLOP/s Rate\")\n",
    "#plt.title(\"ramping up to 20K workers\")\n"
   ]
  },
  {
   "cell_type": "code",
   "execution_count": 53,
   "metadata": {},
   "outputs": [
    {
     "data": {
      "text/plain": [
       "26446676.02567168"
      ]
     },
     "execution_count": 53,
     "metadata": {},
     "output_type": "execute_result"
    }
   ],
   "source": [
    "eruntime_data[\"flops\"][-1] - runtime_data[\"flops\"][0]"
   ]
  },
  {
   "cell_type": "code",
   "execution_count": 54,
   "metadata": {},
   "outputs": [
    {
     "data": {
      "text/plain": [
       "Text(0.5,1,'ramping up to 20K workers')"
      ]
     },
     "execution_count": 54,
     "metadata": {},
     "output_type": "execute_result"
    },
    {
     "data": {
      "image/png": "[encoded data removed]",
      "text/plain": [
       "<Figure size 432x288 with 1 Axes>"
      ]
     },
     "metadata": {},
     "output_type": "display_data"
    }
   ],
   "source": [
    "plt.plot(smooth(np.gradient(runtime_data[\"writes\"])/1000, window_len=300), label=\"smooth with window len of 300\")\n",
    "plt.xlabel(\"time\")\n",
    "plt.ylabel(\"TBYtes/s Rate\")\n",
    "plt.title(\"ramping up to 20K workers\")"
   ]
  },
  {
   "cell_type": "code",
   "execution_count": 55,
   "metadata": {},
   "outputs": [
    {
     "data": {
      "text/plain": [
       "133"
      ]
     },
     "execution_count": 55,
     "metadata": {},
     "output_type": "execute_result"
    }
   ],
   "source": [
    "(runtime_data[\"times\"][-1] - runtime_data[\"times\"][-100])"
   ]
  },
  {
   "cell_type": "code",
   "execution_count": 56,
   "metadata": {},
   "outputs": [
    {
     "data": {
      "text/plain": [
       "50.09752384288723"
      ]
     },
     "execution_count": 56,
     "metadata": {},
     "output_type": "execute_result"
    }
   ],
   "source": [
    "(runtime_data[\"writes\"][-1] - runtime_data[\"writes\"][-100])/(runtime_data[\"times\"][-1] - runtime_data[\"times\"][-100])"
   ]
  },
  {
   "cell_type": "code",
   "execution_count": 28,
   "metadata": {},
   "outputs": [
    {
     "ename": "SyntaxError",
     "evalue": "unexpected EOF while parsing (<ipython-input-28-ac44858f51b3>, line 1)",
     "output_type": "error",
     "traceback": [
      "\u001b[0;36m  File \u001b[0;32m\"<ipython-input-28-ac44858f51b3>\"\u001b[0;36m, line \u001b[0;32m1\u001b[0m\n\u001b[0;31m    np.mean(smooth(np.gradient(runtime_data[\"writes\"])/1000)\u001b[0m\n\u001b[0m                                                            ^\u001b[0m\n\u001b[0;31mSyntaxError\u001b[0m\u001b[0;31m:\u001b[0m unexpected EOF while parsing\n"
     ]
    }
   ],
   "source": [
    "np.mean(smooth(np.gradient(runtime_data[\"writes\"])/1000)"
   ]
  },
  {
   "cell_type": "markdown",
   "metadata": {},
   "source": [
    "### There is a lot more information in the runtime data dictionary"
   ]
  },
  {
   "cell_type": "code",
   "execution_count": 29,
   "metadata": {},
   "outputs": [],
   "source": [
    "read_txns_cdf = (1e9*np.array(runtime_data[\"reads\"])/(4096*4096*8)).astype('int')\n",
    "write_txns_cdf = (1e9*np.array(runtime_data[\"writes\"])/(4096*4096*8)).astype('int')\n",
    "times = runtime_data[\"times\"]\n",
    "\n"
   ]
  },
  {
   "cell_type": "code",
   "execution_count": 312,
   "metadata": {},
   "outputs": [],
   "source": [
    "reads = runtime_data[\"reads\"]\n",
    "flops = runtime_data[\"flops\"]\n",
    "writes = runtime_data[\"writes\"]"
   ]
  },
  {
   "cell_type": "code",
   "execution_count": 57,
   "metadata": {},
   "outputs": [
    {
     "data": {
      "text/plain": [
       "dict_keys(['redis_done_counts', 'redis_ready_counts', 'redis_post_op_counts', 'redis_not_ready_counts', 'redis_running_counts', 'sqs_invis_counts', 'sqs_vis_counts', 'busy_workers', 'up_workers', 'times', 'lru', 'priority', 'eager', 'truncate', 'max_cores', 'problem_size', 'shard_size', 'pipeline', 'flops', 'reads', 'writes', 'read_objects', 'write_objects', 'trial', 'launch_granularity', 'log_granularity', 'autoscale_policy', 'standalone', 'program', 'time_steps', 'failed', 'all_futures'])"
      ]
     },
     "execution_count": 57,
     "metadata": {},
     "output_type": "execute_result"
    }
   ],
   "source": [
    "runtime_data[]"
   ]
  },
  {
   "cell_type": "code",
   "execution_count": 349,
   "metadata": {},
   "outputs": [],
   "source": [
    "times_peak = runtime_data[\"times\"][-1000:]"
   ]
  },
  {
   "cell_type": "code",
   "execution_count": 354,
   "metadata": {},
   "outputs": [
    {
     "data": {
      "text/plain": [
       "1761"
      ]
     },
     "execution_count": 354,
     "metadata": {},
     "output_type": "execute_result"
    }
   ],
   "source": [
    "times_peak[-1] - times_peak[0]"
   ]
  },
  {
   "cell_type": "code",
   "execution_count": 313,
   "metadata": {},
   "outputs": [
    {
     "data": {
      "text/plain": [
       "2905.7273749831684"
      ]
     },
     "execution_count": 313,
     "metadata": {},
     "output_type": "execute_result"
    }
   ],
   "source": [
    "np.mean(np.gradient(reads[-1000:])) * 4"
   ]
  },
  {
   "cell_type": "markdown",
   "metadata": {},
   "source": [
    "## All the information below is low level per operation program tracing \n",
    "(we could potentially subsample the number of operations to speed this up but as this stands the serial runtime of \n",
    "the below cells is n^3/b^3). Currently all the s3 keys are downloaded  locally but this could be sped up and parallelized using pywren (or we could just let this run over night)"
   ]
  },
  {
   "cell_type": "code",
   "execution_count": 15,
   "metadata": {},
   "outputs": [],
   "source": [
    "#TODO: EJ when keyspace is large you probably don't want to do this centrally?\n",
    "lst = [x for x in list_all_keys(bucket=BUCKET, prefix=\"{0}/{1}\".format(\"lambdapack\", PROGRAM_ID)) if \"runtime\" not in x]"
   ]
  },
  {
   "cell_type": "code",
   "execution_count": 16,
   "metadata": {},
   "outputs": [
    {
     "data": {
      "text/plain": [
       "578"
      ]
     },
     "execution_count": 16,
     "metadata": {},
     "output_type": "execute_result"
    }
   ],
   "source": [
    "len(lst)"
   ]
  },
  {
   "cell_type": "code",
   "execution_count": 17,
   "metadata": {},
   "outputs": [],
   "source": [
    "def download_profiled_block(key, bucket):\n",
    "    client = boto3.client('s3')\n",
    "    return dill.loads(client.get_object(Key=key, Bucket=bucket)[\"Body\"].read())\n",
    "\n",
    "\n",
    "def perf_profile(blocks, num_bins=100):\n",
    "    READ_INSTRUCTIONS = [lp.OC.S3_LOAD]\n",
    "    WRITE_INSTRUCTIONS = [lp.OC.S3_WRITE, lp.OC.RET]\n",
    "    COMPUTE_INSTRUCTIONS = [lp.OC.GENERIC]\n",
    "    # first flatten into a single instruction list\n",
    "    instructions_full = [inst for block in blocks for inst in block.instrs]\n",
    "    instructions = [inst for block in blocks for inst in block.instrs if inst.end_time != None and inst.start_time != None]\n",
    "    start_times = [inst.start_time for inst in instructions]\n",
    "    end_times = [inst.end_time for inst in instructions]\n",
    "\n",
    "    abs_start = min(start_times)\n",
    "    last_end = max(end_times)\n",
    "    tot_time = (last_end - abs_start)\n",
    "    bins = np.linspace(0, tot_time, tot_time)\n",
    "    total_flops_per_sec = np.zeros(len(bins))\n",
    "    read_bytes_per_sec = np.zeros(len(bins))\n",
    "    write_bytes_per_sec = np.zeros(len(bins))\n",
    "    read_txns = np.zeros(len(bins))\n",
    "    write_txns = np.zeros(len(bins))\n",
    "    runtimes = []\n",
    "\n",
    "    for i,inst in enumerate(instructions):\n",
    "        if (inst.end_time == None or inst.start_time == None):\n",
    "          # replay instructions don't always have profiling information...\n",
    "          continue\n",
    "        duration = inst.end_time - inst.start_time\n",
    "        if (inst.i_code in READ_INSTRUCTIONS):\n",
    "            start_time = inst.start_time - abs_start\n",
    "            end_time = inst.end_time - abs_start\n",
    "            start_bin, end_bin = np.searchsorted(bins, [start_time, end_time])\n",
    "            size = inst.size\n",
    "            bytes_per_sec = size/duration\n",
    "            gb_per_sec = bytes_per_sec/1e9\n",
    "            read_bytes_per_sec[start_bin:end_bin]  += gb_per_sec\n",
    "            read_txns[start_bin:end_bin] += 1/duration\n",
    "\n",
    "        if (inst.i_code in WRITE_INSTRUCTIONS):\n",
    "            start_time = inst.start_time - abs_start\n",
    "            end_time = inst.end_time - abs_start\n",
    "            start_bin, end_bin = np.searchsorted(bins, [start_time, end_time])\n",
    "            size = inst.size\n",
    "            bytes_per_sec = size/duration\n",
    "            gb_per_sec = bytes_per_sec/1e9\n",
    "            write_bytes_per_sec[start_bin:end_bin]  += gb_per_sec\n",
    "            write_txns[start_bin:end_bin] += 1/duration\n",
    "\n",
    "        if (False and inst.i_code in COMPUTE_INSTRUCTIONS):\n",
    "            start_time = inst.start_time - abs_start\n",
    "            end_time = inst.end_time - abs_start\n",
    "            start_bin, end_bin = np.searchsorted(bins, [start_time, end_time])\n",
    "            flops = inst.flops\n",
    "            flops_per_sec = flops/duration\n",
    "            gf_per_sec = flops_per_sec/1e9\n",
    "            total_flops_per_sec[start_bin:end_bin]  += gf_per_sec\n",
    "        runtimes.append(duration)\n",
    "    optimes = defaultdict(int)\n",
    "    opcounts = defaultdict(int)\n",
    "    computetimes = defaultdict(int)\n",
    "    computecounts = defaultdict(int)\n",
    "    offset = instructions[0].start_time\n",
    "    for inst, t in zip(instructions, runtimes):\n",
    "      opcounts[inst.i_code] += 1\n",
    "      optimes[inst.i_code] += t\n",
    "      if (inst.i_code in COMPUTE_INSTRUCTIONS):\n",
    "        computetimes[inst.compute] += t\n",
    "        computecounts[inst.compute] += 1\n",
    "      IO_INSTRUCTIONS = [lp.OC.S3_LOAD, lp.OC.S3_WRITE, lp.OC.RET]\n",
    "    print(\"Average instruction runtimes:\")\n",
    "    for k in optimes.keys():\n",
    "      print(\"{0}: {1}s\".format(k, optimes[k]/opcounts[k]))\n",
    "    print(\"Average Compute runtimes:\")\n",
    "    for k in computetimes.keys():\n",
    "      print(\"{0}: {1}s\".format(k, computetimes[k]/computecounts[k]))\n",
    "    return read_txns, write_txns, read_bytes_per_sec, write_bytes_per_sec, total_flops_per_sec, bins , instructions, runtimes\n",
    "\n",
    "\n",
    "\n",
    " "
   ]
  },
  {
   "cell_type": "code",
   "execution_count": 31,
   "metadata": {},
   "outputs": [],
   "source": [
    "f = runtime_data['all_futures']"
   ]
  },
  {
   "cell_type": "code",
   "execution_count": 34,
   "metadata": {},
   "outputs": [
    {
     "ename": "KeyboardInterrupt",
     "evalue": "",
     "output_type": "error",
     "traceback": [
      "\u001b[0;31m---------------------------------------------------------------------------\u001b[0m",
      "\u001b[0;31mKeyboardInterrupt\u001b[0m                         Traceback (most recent call last)",
      "\u001b[0;32m<ipython-input-34-c2c08456c635>\u001b[0m in \u001b[0;36m<module>\u001b[0;34m()\u001b[0m\n\u001b[0;32m----> 1\u001b[0;31m \u001b[0mf\u001b[0m\u001b[0;34m[\u001b[0m\u001b[0;36m0\u001b[0m\u001b[0;34m]\u001b[0m\u001b[0;34m.\u001b[0m\u001b[0mresult\u001b[0m\u001b[0;34m(\u001b[0m\u001b[0;34m)\u001b[0m\u001b[0;34m\u001b[0m\u001b[0m\n\u001b[0m",
      "\u001b[0;32m~/anaconda3/lib/python3.6/concurrent/futures/_base.py\u001b[0m in \u001b[0;36mresult\u001b[0;34m(self, timeout)\u001b[0m\n\u001b[1;32m    419\u001b[0m             \u001b[0mException\u001b[0m\u001b[0;34m:\u001b[0m \u001b[0mIf\u001b[0m \u001b[0mthe\u001b[0m \u001b[0mcall\u001b[0m \u001b[0mraised\u001b[0m \u001b[0mthen\u001b[0m \u001b[0mthat\u001b[0m \u001b[0mexception\u001b[0m \u001b[0mwill\u001b[0m \u001b[0mbe\u001b[0m \u001b[0mraised\u001b[0m\u001b[0;34m.\u001b[0m\u001b[0;34m\u001b[0m\u001b[0m\n\u001b[1;32m    420\u001b[0m         \"\"\"\n\u001b[0;32m--> 421\u001b[0;31m         \u001b[0;32mwith\u001b[0m \u001b[0mself\u001b[0m\u001b[0;34m.\u001b[0m\u001b[0m_condition\u001b[0m\u001b[0;34m:\u001b[0m\u001b[0;34m\u001b[0m\u001b[0m\n\u001b[0m\u001b[1;32m    422\u001b[0m             \u001b[0;32mif\u001b[0m \u001b[0mself\u001b[0m\u001b[0;34m.\u001b[0m\u001b[0m_state\u001b[0m \u001b[0;32min\u001b[0m \u001b[0;34m[\u001b[0m\u001b[0mCANCELLED\u001b[0m\u001b[0;34m,\u001b[0m \u001b[0mCANCELLED_AND_NOTIFIED\u001b[0m\u001b[0;34m]\u001b[0m\u001b[0;34m:\u001b[0m\u001b[0;34m\u001b[0m\u001b[0m\n\u001b[1;32m    423\u001b[0m                 \u001b[0;32mraise\u001b[0m \u001b[0mCancelledError\u001b[0m\u001b[0;34m(\u001b[0m\u001b[0;34m)\u001b[0m\u001b[0;34m\u001b[0m\u001b[0m\n",
      "\u001b[0;32m~/anaconda3/lib/python3.6/threading.py\u001b[0m in \u001b[0;36m__enter__\u001b[0;34m(self)\u001b[0m\n\u001b[1;32m    238\u001b[0m \u001b[0;34m\u001b[0m\u001b[0m\n\u001b[1;32m    239\u001b[0m     \u001b[0;32mdef\u001b[0m \u001b[0m__enter__\u001b[0m\u001b[0;34m(\u001b[0m\u001b[0mself\u001b[0m\u001b[0;34m)\u001b[0m\u001b[0;34m:\u001b[0m\u001b[0;34m\u001b[0m\u001b[0m\n\u001b[0;32m--> 240\u001b[0;31m         \u001b[0;32mreturn\u001b[0m \u001b[0mself\u001b[0m\u001b[0;34m.\u001b[0m\u001b[0m_lock\u001b[0m\u001b[0;34m.\u001b[0m\u001b[0m__enter__\u001b[0m\u001b[0;34m(\u001b[0m\u001b[0;34m)\u001b[0m\u001b[0;34m\u001b[0m\u001b[0m\n\u001b[0m\u001b[1;32m    241\u001b[0m \u001b[0;34m\u001b[0m\u001b[0m\n\u001b[1;32m    242\u001b[0m     \u001b[0;32mdef\u001b[0m \u001b[0m__exit__\u001b[0m\u001b[0;34m(\u001b[0m\u001b[0mself\u001b[0m\u001b[0;34m,\u001b[0m \u001b[0;34m*\u001b[0m\u001b[0margs\u001b[0m\u001b[0;34m)\u001b[0m\u001b[0;34m:\u001b[0m\u001b[0;34m\u001b[0m\u001b[0m\n",
      "\u001b[0;31mKeyboardInterrupt\u001b[0m: "
     ]
    }
   ],
   "source": [
    "f[0].result()"
   ]
  },
  {
   "cell_type": "code",
   "execution_count": 18,
   "metadata": {},
   "outputs": [
    {
     "name": "stdout",
     "output_type": "stream",
     "text": [
      "578\n"
     ]
    }
   ],
   "source": [
    " \n",
    "executor = fs.ThreadPoolExecutor(64)\n",
    "futures = []\n",
    "for key in lst:\n",
    "    futures.append(executor.submit(download_profiled_block, key, BUCKET))\n",
    "    \n",
    "print(len(futures))\n",
    "res = fs.wait(futures)\n",
    "\n",
    "\n",
    "profiled_blocks = []\n",
    "for f in futures:\n",
    "    try:\n",
    "        profiled_blocks.append(f.result())\n",
    "    except:\n",
    "        pass"
   ]
  },
  {
   "cell_type": "code",
   "execution_count": 1,
   "metadata": {},
   "outputs": [
    {
     "ename": "NameError",
     "evalue": "name 'profiled_blocks' is not defined",
     "output_type": "error",
     "traceback": [
      "\u001b[0;31m---------------------------------------------------------------------------\u001b[0m",
      "\u001b[0;31mNameError\u001b[0m                                 Traceback (most recent call last)",
      "\u001b[0;32m<ipython-input-1-13690007d2d6>\u001b[0m in \u001b[0;36m<module>\u001b[0;34m()\u001b[0m\n\u001b[0;32m----> 1\u001b[0;31m \u001b[0mprofiled_blocks_flat\u001b[0m \u001b[0;34m=\u001b[0m \u001b[0;34m[\u001b[0m\u001b[0mpickle\u001b[0m\u001b[0;34m.\u001b[0m\u001b[0mloads\u001b[0m\u001b[0;34m(\u001b[0m\u001b[0mb\u001b[0m\u001b[0;34m)\u001b[0m \u001b[0;32mfor\u001b[0m \u001b[0mx\u001b[0m \u001b[0;32min\u001b[0m \u001b[0mprofiled_blocks\u001b[0m \u001b[0;32mfor\u001b[0m \u001b[0mb\u001b[0m \u001b[0;32min\u001b[0m \u001b[0mx\u001b[0m\u001b[0;34m.\u001b[0m\u001b[0mvalues\u001b[0m\u001b[0;34m(\u001b[0m\u001b[0;34m)\u001b[0m\u001b[0;34m]\u001b[0m\u001b[0;34m\u001b[0m\u001b[0m\n\u001b[0m",
      "\u001b[0;31mNameError\u001b[0m: name 'profiled_blocks' is not defined"
     ]
    }
   ],
   "source": [
    "profiled_blocks_flat = [pickle.loads(b) for x in profiled_blocks for b in x.values()]"
   ]
  },
  {
   "cell_type": "code",
   "execution_count": 20,
   "metadata": {},
   "outputs": [
    {
     "data": {
      "text/plain": [
       "<numpywren.lambdapack.InstructionBlock at 0x7f00f864df28>"
      ]
     },
     "execution_count": 20,
     "metadata": {},
     "output_type": "execute_result"
    }
   ],
   "source": [
    "profiled_blocks_flat[0]"
   ]
  },
  {
   "cell_type": "code",
   "execution_count": 21,
   "metadata": {},
   "outputs": [
    {
     "data": {
      "text/plain": [
       "577"
      ]
     },
     "execution_count": 21,
     "metadata": {},
     "output_type": "execute_result"
    }
   ],
   "source": [
    "\n",
    "len(profiled_blocks)\n"
   ]
  },
  {
   "cell_type": "code",
   "execution_count": 22,
   "metadata": {},
   "outputs": [
    {
     "data": {
      "text/plain": [
       "22349"
      ]
     },
     "execution_count": 22,
     "metadata": {},
     "output_type": "execute_result"
    }
   ],
   "source": [
    "len(profiled_blocks_flat)"
   ]
  },
  {
   "cell_type": "code",
   "execution_count": 23,
   "metadata": {},
   "outputs": [
    {
     "data": {
      "image/png": "[encoded data removed]",
      "text/plain": [
       "<matplotlib.figure.Figure at 0x7f01181a35c0>"
      ]
     },
     "metadata": {},
     "output_type": "display_data"
    }
   ],
   "source": [
    "from matplotlib import patches as mpatches\n",
    "time_offset = np.min([i.start_time for b in profiled_blocks_flat for i in b.instrs if i.start_time != None and i.end_time != None])\n",
    "instructions = [i for b in profiled_blocks_flat for i in b.instrs if i.start_time != None and i.end_time != None]\n",
    "fig = pylab.figure(figsize=(10, 6))\n",
    "ax = fig.add_subplot(1, 1, 1)\n",
    "total_jobs = len(instructions)\n",
    "y = np.arange(len(instructions))\n",
    "point_size = 50\n",
    "\n",
    "start_times = np.array([i.start_time for i in instructions]) - time_offset\n",
    "end_times = np.array([i.end_time for i in instructions]) - time_offset\n",
    "palette = sns.color_palette(\"deep\", 6)\n",
    "patches = []\n",
    "\n",
    "READ_INSTRUCTIONS = [lp.OC.S3_LOAD]\n",
    "WRITE_INSTRUCTIONS = [lp.OC.S3_WRITE]\n",
    "COMPUTE_INSTRUCTIONS = [lp.OC.GENERIC]\n",
    "\n",
    "read_starts = []\n",
    "read_ends = []\n",
    "write_starts = []\n",
    "write_ends = []\n",
    "compute_starts = []\n",
    "compute_ends = []\n",
    "read_ys = []\n",
    "write_ys = []\n",
    "compute_ys = []\n",
    "write_times = []\n",
    "compute_times = []\n",
    "read_times = []\n",
    "for j,block in enumerate(profiled_blocks_flat):\n",
    "    syrk = False\n",
    "    for i in block.instrs:\n",
    "        if i.start_time == None or i.end_time == None: \n",
    "            continue\n",
    "        if (i.i_code in READ_INSTRUCTIONS):\n",
    "            read_starts.append(i.start_time - time_offset)\n",
    "            read_ends.append(i.end_time - time_offset)\n",
    "            read_times.append(i.end_time - i.start_time)\n",
    "            read_ys.append(j) \n",
    "            \n",
    "        elif (i.i_code in COMPUTE_INSTRUCTIONS):\n",
    "            compute_starts.append(i.start_time - time_offset)\n",
    "            compute_ends.append(i.end_time - time_offset)\n",
    "            compute_times.append(i.end_time - i.start_time)\n",
    "            compute_ys.append(j)\n",
    "        elif (i.i_code in WRITE_INSTRUCTIONS):\n",
    "            \n",
    "            if (syrk):\n",
    "                write_starts.append(i.start_time - time_offset)\n",
    "                write_ends.append(i.end_time - time_offset)\n",
    "                write_times.append(write_ends[-1] - write_starts[-1])\n",
    "                write_ys.append(j)\n",
    "       \n",
    "\n",
    "ax.scatter(read_starts, read_ys,  c=palette[0], edgecolor='none', s=point_size, alpha=0.8)\n",
    "patches.append(mpatches.Patch(color=palette[0], label=\"read_argument\"))\n",
    "ax.scatter(read_ends, read_ys,  c=palette[1], edgecolor='none', s=point_size, alpha=0.8)\n",
    "patches.append(mpatches.Patch(color=palette[1], label=\"read_end\"))\n",
    "\n",
    "ax.scatter(compute_starts, compute_ys,  c=palette[2], edgecolor='none', s=point_size, alpha=0.8)\n",
    "patches.append(mpatches.Patch(color=palette[2], label=\"compute_start\"))\n",
    "ax.scatter(compute_ends, compute_ys,  c=palette[3], edgecolor='none', s=point_size, alpha=0.8)\n",
    "patches.append(mpatches.Patch(color=palette[3], label=\"compute_end\"))\n",
    "\n",
    "ax.scatter(write_starts, write_ys,  c=palette[4], edgecolor='none', s=point_size, alpha=0.2)\n",
    "patches.append(mpatches.Patch(color=palette[4], label=\"write_start\"))\n",
    "ax.scatter(write_ends, write_ys,  c=palette[5], edgecolor='none', s=point_size, alpha=0.2)\n",
    "patches.append(mpatches.Patch(color=palette[5], label=\"write_result\"))\n",
    "ax.set_xlabel('wallclock time (sec)')\n",
    "ax.set_ylabel('job')\n",
    "\n",
    "legend = pylab.legend(handles=patches, \n",
    "                      loc='upper left', frameon=True)\n",
    "legend.get_frame().set_facecolor('#FFFFFF')"
   ]
  },
  {
   "cell_type": "code",
   "execution_count": 27,
   "metadata": {},
   "outputs": [
    {
     "data": {
      "text/plain": [
       "<Future at 0x7f013df98e10 state=finished returned dict>"
      ]
     },
     "execution_count": 27,
     "metadata": {},
     "output_type": "execute_result"
    }
   ],
   "source": [
    "futures[0]"
   ]
  },
  {
   "cell_type": "code",
   "execution_count": 25,
   "metadata": {},
   "outputs": [
    {
     "name": "stderr",
     "output_type": "stream",
     "text": [
      "/home/ubuntu/anaconda3/lib/python3.6/site-packages/ipykernel_launcher.py:19: DeprecationWarning: object of type <class 'float'> cannot be safely interpreted as an integer.\n"
     ]
    },
    {
     "name": "stdout",
     "output_type": "stream",
     "text": [
      "Average instruction runtimes:\n",
      "RemoteInstructionOpCodes.S3_LOAD: 1.033746175140243s\n",
      "RemoteInstructionOpCodes.GENERIC: 2.0684284900273724s\n",
      "RemoteInstructionOpCodes.S3_WRITE: 1.537536223651825s\n",
      "Average Compute runtimes:\n",
      "<function qr_leaf at 0x7f014b31c598>: 2.0886806294644678s\n",
      "<function qr_trailing_update at 0x7f014b31c840>: 2.030294497956773s\n",
      "<function qr_factor at 0x7f014b31c400>: 1.597846439906529s\n",
      "CPU times: user 1.46 s, sys: 380 ms, total: 1.84 s\n",
      "Wall time: 1.41 s\n"
     ]
    }
   ],
   "source": [
    "%time read_txns, write_txns, read,write,total_flops,bins, instructions, runtimes = perf_profile(profiled_blocks_flat, num_bins=100)"
   ]
  },
  {
   "cell_type": "code",
   "execution_count": 61,
   "metadata": {},
   "outputs": [],
   "source": [
    "compute_times = [y - x for x,y in zip(compute_starts, compute_ends)]"
   ]
  },
  {
   "cell_type": "code",
   "execution_count": 103,
   "metadata": {},
   "outputs": [
    {
     "data": {
      "text/plain": [
       "50.5872351307873"
      ]
     },
     "execution_count": 103,
     "metadata": {},
     "output_type": "execute_result"
    }
   ],
   "source": [
    "write_times > "
   ]
  },
  {
   "cell_type": "code",
   "execution_count": 50,
   "metadata": {},
   "outputs": [
    {
     "name": "stderr",
     "output_type": "stream",
     "text": [
      "/home/ubuntu/anaconda3/lib/python3.6/site-packages/seaborn/timeseries.py:183: UserWarning: The tsplot function is deprecated and will be removed or replaced (in a substantially altered version) in a future release.\n",
      "  warnings.warn(msg, UserWarning)\n"
     ]
    },
    {
     "data": {
      "image/png": "[encoded data removed]",
      "text/plain": [
       "<Figure size 432x288 with 1 Axes>"
      ]
     },
     "metadata": {},
     "output_type": "display_data"
    }
   ],
   "source": [
    "sns.tsplot(write_txns, time=(bins - min(bins)))\n",
    "plt.xlabel(\"time since start\")\n",
    "plt.ylabel(\"aggregate write txn/s\")\n",
    "plt.savefig(\"20k_write_txns.pdf\")\n",
    "#plt.xlim(10,12)"
   ]
  },
  {
   "cell_type": "code",
   "execution_count": 51,
   "metadata": {},
   "outputs": [
    {
     "name": "stderr",
     "output_type": "stream",
     "text": [
      "/home/ubuntu/anaconda3/lib/python3.6/site-packages/seaborn/timeseries.py:183: UserWarning: The tsplot function is deprecated and will be removed or replaced (in a substantially altered version) in a future release.\n",
      "  warnings.warn(msg, UserWarning)\n"
     ]
    },
    {
     "data": {
      "image/png": "[encoded data removed]",
      "text/plain": [
       "<Figure size 432x288 with 1 Axes>"
      ]
     },
     "metadata": {},
     "output_type": "display_data"
    }
   ],
   "source": [
    "sns.tsplot(read_txns, time=(bins - min(bins)))\n",
    "plt.xlabel(\"time since start\")\n",
    "plt.ylabel(\"aggregate read txn/s\")\n",
    "plt.savefig(\"20k_read_txns.pdf\")\n",
    "#plt.xlim(10,12)"
   ]
  },
  {
   "cell_type": "code",
   "execution_count": 52,
   "metadata": {},
   "outputs": [
    {
     "name": "stderr",
     "output_type": "stream",
     "text": [
      "/home/ubuntu/anaconda3/lib/python3.6/site-packages/seaborn/timeseries.py:183: UserWarning: The tsplot function is deprecated and will be removed or replaced (in a substantially altered version) in a future release.\n",
      "  warnings.warn(msg, UserWarning)\n"
     ]
    },
    {
     "data": {
      "image/png": "[encoded data removed]",
      "text/plain": [
       "<Figure size 432x288 with 1 Axes>"
      ]
     },
     "metadata": {},
     "output_type": "display_data"
    }
   ],
   "source": [
    "sns.tsplot(read, time=(bins - min(bins)))\n",
    "plt.xlabel(\"time since start\")\n",
    "plt.ylabel(\"aggregate read GB/s\")\n",
    "plt.savefig(\"20k_read_bw.pdf\")\n",
    "#plt.xlim(10,12)"
   ]
  },
  {
   "cell_type": "code",
   "execution_count": 54,
   "metadata": {},
   "outputs": [
    {
     "name": "stderr",
     "output_type": "stream",
     "text": [
      "/home/ubuntu/anaconda3/lib/python3.6/site-packages/seaborn/timeseries.py:183: UserWarning: The tsplot function is deprecated and will be removed or replaced (in a substantially altered version) in a future release.\n",
      "  warnings.warn(msg, UserWarning)\n"
     ]
    },
    {
     "data": {
      "image/png": "[encoded data removed]",
      "text/plain": [
       "<Figure size 432x288 with 1 Axes>"
      ]
     },
     "metadata": {},
     "output_type": "display_data"
    }
   ],
   "source": [
    "sns.tsplot((write), time=(bins - min(bins)))\n",
    "plt.xlabel(\"time since start\")\n",
    "plt.ylabel(\"aggregate write GB/s\")\n",
    "plt.savefig(\"20k_write_bw.pdf\")\n"
   ]
  },
  {
   "cell_type": "code",
   "execution_count": 55,
   "metadata": {},
   "outputs": [
    {
     "name": "stderr",
     "output_type": "stream",
     "text": [
      "/home/ubuntu/anaconda3/lib/python3.6/site-packages/seaborn/timeseries.py:183: UserWarning: The tsplot function is deprecated and will be removed or replaced (in a substantially altered version) in a future release.\n",
      "  warnings.warn(msg, UserWarning)\n"
     ]
    },
    {
     "data": {
      "text/plain": [
       "[<matplotlib.lines.Line2D at 0x7f93a5101cf8>]"
      ]
     },
     "execution_count": 55,
     "metadata": {},
     "output_type": "execute_result"
    },
    {
     "data": {
      "image/png": "[encoded data removed]",
      "text/plain": [
       "<Figure size 432x288 with 1 Axes>"
      ]
     },
     "metadata": {},
     "output_type": "display_data"
    },
    {
     "data": {
      "image/png": "[encoded data removed]",
      "text/plain": [
       "<Figure size 432x288 with 1 Axes>"
      ]
     },
     "metadata": {},
     "output_type": "display_data"
    }
   ],
   "source": [
    "sns.tsplot(total_flops, time=(bins - min(bins)), condition=\"Observed Performance\")\n",
    "plt.xlabel(\"Time since start\")\n",
    "plt.ylabel(\"aggregate Gflops/s\")\n",
    "plt.savefig(\"20k_flops.pdf\",  bbox_inches=\"tight\")\n",
    "plt.figure()\n",
    "plt.plot(times, np.minimum(up_workers, 2e4))"
   ]
  },
  {
   "cell_type": "code",
   "execution_count": 54,
   "metadata": {},
   "outputs": [],
   "source": [
    "import dill"
   ]
  },
  {
   "cell_type": "code",
   "execution_count": 55,
   "metadata": {},
   "outputs": [],
   "source": [
    "\n",
    "with open(\"profiled_blocks_20k.pickle\", \"wb+\") as f:\n",
    "    f.write(dill.dumps(profiled_blocks))"
   ]
  },
  {
   "cell_type": "code",
   "execution_count": 61,
   "metadata": {},
   "outputs": [
    {
     "data": {
      "text/plain": [
       "254298.54908288742"
      ]
     },
     "execution_count": 61,
     "metadata": {},
     "output_type": "execute_result"
    }
   ],
   "source": [
    "max(total_flops)"
   ]
  },
  {
   "cell_type": "code",
   "execution_count": 79,
   "metadata": {},
   "outputs": [],
   "source": [
    "logfile = open(\"08_26_20k_job.log\").read()"
   ]
  },
  {
   "cell_type": "code",
   "execution_count": 143,
   "metadata": {
    "scrolled": false
   },
   "outputs": [],
   "source": [
    "up_workers = []\n",
    "times = []\n",
    "times_read = []\n",
    "read_timeouts = []\n",
    "write_timeouts = []\n",
    "times_write = []\n",
    "write_times = []\n",
    "\n",
    "for line in logfile.split(\"\\n\"):\n",
    "    if \"Up Workers\" in line:\n",
    "        try:\n",
    "            times.append(int(line.split(\",\")[0].split(\":\")[0]))\n",
    "            up_workers.append(int(line.split(\",\")[0].split(\":\")[-1]))\n",
    "        except:\n",
    "            pass\n",
    "    if \"Read timeouts\" in line and \"fraction\" not in line:\n",
    "        try:\n",
    "            #print(line.split(\",\")[0].split(\":\")[-1])\n",
    "            times_read.append(int(line.split(\",\")[0].split(\":\")[0]))\n",
    "            read_timeouts.append(int(line.split(\",\")[0].split(\":\")[-1]))\n",
    "        except:\n",
    "            pass\n",
    "    if \"Write timeouts\" in line and \"fraction\" not in line:\n",
    "        try:\n",
    "            #print(line.split(\",\")[0].split(\":\")[-1])\n",
    "            #print(line)\n",
    "            times_write.append(int(line.split(\",\")[0].split(\":\")[0]))\n",
    "            write_timeouts.append(int(line.split(\",\")[1].split(\":\")[-1]))\n",
    "            #print(write_timeouts[-1])\n",
    "        except:\n",
    "            pass\n",
    "        "
   ]
  },
  {
   "cell_type": "code",
   "execution_count": 137,
   "metadata": {},
   "outputs": [],
   "source": [
    "up_workers = np.array(up_workers)"
   ]
  },
  {
   "cell_type": "code",
   "execution_count": 129,
   "metadata": {},
   "outputs": [],
   "source": [
    "times = np.array(times)"
   ]
  },
  {
   "cell_type": "code",
   "execution_count": 130,
   "metadata": {},
   "outputs": [
    {
     "data": {
      "text/plain": [
       "Text(0,0.5,'number of workers killed by PyWren')"
      ]
     },
     "execution_count": 130,
     "metadata": {},
     "output_type": "execute_result"
    },
    {
     "data": {
      "image/png": "[encoded data removed]",
      "text/plain": [
       "<Figure size 432x288 with 1 Axes>"
      ]
     },
     "metadata": {},
     "output_type": "display_data"
    }
   ],
   "source": [
    "plt.title(\"Timed out workers\")\n",
    "plt.plot(times,np.maximum(up_workers - 20000, 0))\n",
    "plt.xlabel(\"time since start\")\n",
    "plt.ylabel(\"number of workers killed by PyWren\")"
   ]
  },
  {
   "cell_type": "code",
   "execution_count": 131,
   "metadata": {},
   "outputs": [
    {
     "data": {
      "text/plain": [
       "(105,)"
      ]
     },
     "execution_count": 131,
     "metadata": {},
     "output_type": "execute_result"
    }
   ],
   "source": [
    "np.maximum(up_workers - 20000, 0).shape"
   ]
  },
  {
   "cell_type": "code",
   "execution_count": 145,
   "metadata": {},
   "outputs": [
    {
     "data": {
      "text/plain": [
       "Text(0,0.5,'Number of S3 timeouts')"
      ]
     },
     "execution_count": 145,
     "metadata": {},
     "output_type": "execute_result"
    },
    {
     "data": {
      "image/png": "[encoded data removed]",
      "text/plain": [
       "<Figure size 432x288 with 1 Axes>"
      ]
     },
     "metadata": {},
     "output_type": "display_data"
    }
   ],
   "source": [
    "plt.title(\"Read timeouts\")\n",
    "plt.plot(times_read, read_timeouts)\n",
    "plt.xlabel(\"time since start\")\n",
    "plt.ylabel(\"Number of S3 timeouts\")"
   ]
  },
  {
   "cell_type": "code",
   "execution_count": 144,
   "metadata": {},
   "outputs": [
    {
     "data": {
      "text/plain": [
       "Text(0,0.5,'Number of S3 timeouts')"
      ]
     },
     "execution_count": 144,
     "metadata": {},
     "output_type": "execute_result"
    },
    {
     "data": {
      "image/png": "[encoded data removed]",
      "text/plain": [
       "<Figure size 432x288 with 1 Axes>"
      ]
     },
     "metadata": {},
     "output_type": "display_data"
    }
   ],
   "source": [
    "plt.title(\"write_timeouts\")\n",
    "plt.plot(times_write, write_timeouts)\n",
    "plt.xlabel(\"time since start\")\n",
    "plt.ylabel(\"Number of S3 timeouts\")"
   ]
  },
  {
   "cell_type": "code",
   "execution_count": null,
   "metadata": {},
   "outputs": [],
   "source": []
  },
  {
   "cell_type": "code",
   "execution_count": null,
   "metadata": {},
   "outputs": [],
   "source": []
  }
 ],
 "metadata": {
  "kernelspec": {
   "display_name": "Python 3",
   "language": "python",
   "name": "python3"
  },
  "language_info": {
   "codemirror_mode": {
    "name": "ipython",
    "version": 3
   },
   "file_extension": ".py",
   "mimetype": "text/x-python",
   "name": "python",
   "nbconvert_exporter": "python",
   "pygments_lexer": "ipython3",
   "version": "3.6.5"
  }
 },
 "nbformat": 4,
 "nbformat_minor": 2
}
